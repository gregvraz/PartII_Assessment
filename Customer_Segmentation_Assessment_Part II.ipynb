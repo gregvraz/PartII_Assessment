{
 "cells": [
  {
   "cell_type": "markdown",
   "metadata": {},
   "source": [
    "# Customer segmentation\n",
    "_G. Vrazalis_\n",
    "\n",
    "___\n",
    "**1. Data Exploration**\n",
    "\n",
    "**2. RFM Analysis**\n",
    "   - 2.1 Recency\n",
    "   - 2.2 Frequency\n",
    "     -2.3 Monetary (Order Value)\n",
    "   - 2.4 Create Recency-Frequency-Monetary table\n",
    "\n",
    "**3. Customer Segments with Recency-Frequency-Monetary(RFM) model**\n",
    "\n",
    "   - 3.1 Recency-Frequency-Monetary Quintiles\n",
    "   - 3.2 Creation of segments \n",
    "\n",
    "**4. RFM segmentation to answer business questions**\n",
    "\n",
    "**5. Creating customer segments based on the total score of the RFM analysis**\n",
    "\n",
    "**6. Marketing campaign about Coffee and loyal customers**\n",
    "\n",
    "**7. Conclusion**"
   ]
  },
  {
   "cell_type": "markdown",
   "metadata": {},
   "source": [
    "# 1. Data Exploration"
   ]
  },
  {
   "cell_type": "code",
   "execution_count": 1079,
   "metadata": {},
   "outputs": [],
   "source": [
    "import pandas as pd\n",
    "import numpy as np\n",
    "import datetime as dt\n",
    "import seaborn as sns\n",
    "import matplotlib.pyplot as plt\n",
    "import squarify"
   ]
  },
  {
   "cell_type": "code",
   "execution_count": 1080,
   "metadata": {},
   "outputs": [],
   "source": [
    "df = pd.read_csv('bq_results_orders_jan2021.csv', parse_dates=['submit_dt'])"
   ]
  },
  {
   "cell_type": "code",
   "execution_count": 1081,
   "metadata": {},
   "outputs": [
    {
     "name": "stdout",
     "output_type": "stream",
     "text": [
      "<class 'pandas.core.frame.DataFrame'>\n",
      "RangeIndex: 400000 entries, 0 to 399999\n",
      "Data columns (total 8 columns):\n",
      " #   Column          Non-Null Count   Dtype              \n",
      "---  ------          --------------   -----              \n",
      " 0   order_id        400000 non-null  int64              \n",
      " 1   brand           400000 non-null  object             \n",
      " 2   submit_dt       400000 non-null  datetime64[ns, UTC]\n",
      " 3   user_id         400000 non-null  int64              \n",
      " 4   shop_id         400000 non-null  int64              \n",
      " 5   city            400000 non-null  object             \n",
      " 6   cuisine_parent  400000 non-null  object             \n",
      " 7   basket          400000 non-null  float64            \n",
      "dtypes: datetime64[ns, UTC](1), float64(1), int64(3), object(3)\n",
      "memory usage: 24.4+ MB\n"
     ]
    }
   ],
   "source": [
    "#checking characteristics of the given data\n",
    "df.info()"
   ]
  },
  {
   "cell_type": "code",
   "execution_count": 1082,
   "metadata": {},
   "outputs": [
    {
     "data": {
      "text/html": [
       "<div>\n",
       "<style scoped>\n",
       "    .dataframe tbody tr th:only-of-type {\n",
       "        vertical-align: middle;\n",
       "    }\n",
       "\n",
       "    .dataframe tbody tr th {\n",
       "        vertical-align: top;\n",
       "    }\n",
       "\n",
       "    .dataframe thead th {\n",
       "        text-align: right;\n",
       "    }\n",
       "</style>\n",
       "<table border=\"1\" class=\"dataframe\">\n",
       "  <thead>\n",
       "    <tr style=\"text-align: right;\">\n",
       "      <th></th>\n",
       "      <th>order_id</th>\n",
       "      <th>brand</th>\n",
       "      <th>submit_dt</th>\n",
       "      <th>user_id</th>\n",
       "      <th>shop_id</th>\n",
       "      <th>city</th>\n",
       "      <th>cuisine_parent</th>\n",
       "      <th>basket</th>\n",
       "    </tr>\n",
       "  </thead>\n",
       "  <tbody>\n",
       "    <tr>\n",
       "      <th>0</th>\n",
       "      <td>2846837765</td>\n",
       "      <td>GR-EFOOD</td>\n",
       "      <td>2021-01-13 20:37:06+00:00</td>\n",
       "      <td>99103596</td>\n",
       "      <td>206490318</td>\n",
       "      <td>Βόλος</td>\n",
       "      <td>Healthy / Other</td>\n",
       "      <td>9.0</td>\n",
       "    </tr>\n",
       "    <tr>\n",
       "      <th>1</th>\n",
       "      <td>2878146359</td>\n",
       "      <td>GR-EFOOD</td>\n",
       "      <td>2021-01-22 14:28:57+00:00</td>\n",
       "      <td>77179398</td>\n",
       "      <td>206490318</td>\n",
       "      <td>Βόλος</td>\n",
       "      <td>Healthy / Other</td>\n",
       "      <td>7.0</td>\n",
       "    </tr>\n",
       "    <tr>\n",
       "      <th>2</th>\n",
       "      <td>2904155390</td>\n",
       "      <td>GR-EFOOD</td>\n",
       "      <td>2021-01-29 13:52:24+00:00</td>\n",
       "      <td>7233822</td>\n",
       "      <td>206490318</td>\n",
       "      <td>Βόλος</td>\n",
       "      <td>Healthy / Other</td>\n",
       "      <td>6.3</td>\n",
       "    </tr>\n",
       "    <tr>\n",
       "      <th>3</th>\n",
       "      <td>2867086278</td>\n",
       "      <td>GR-EFOOD</td>\n",
       "      <td>2021-01-19 12:19:59+00:00</td>\n",
       "      <td>68621466</td>\n",
       "      <td>206490318</td>\n",
       "      <td>Βόλος</td>\n",
       "      <td>Healthy / Other</td>\n",
       "      <td>7.0</td>\n",
       "    </tr>\n",
       "    <tr>\n",
       "      <th>4</th>\n",
       "      <td>2875723043</td>\n",
       "      <td>GR-EFOOD</td>\n",
       "      <td>2021-01-21 20:08:59+00:00</td>\n",
       "      <td>17007258</td>\n",
       "      <td>206490318</td>\n",
       "      <td>Βόλος</td>\n",
       "      <td>Healthy / Other</td>\n",
       "      <td>11.8</td>\n",
       "    </tr>\n",
       "  </tbody>\n",
       "</table>\n",
       "</div>"
      ],
      "text/plain": [
       "     order_id     brand                 submit_dt   user_id    shop_id   city  \\\n",
       "0  2846837765  GR-EFOOD 2021-01-13 20:37:06+00:00  99103596  206490318  Βόλος   \n",
       "1  2878146359  GR-EFOOD 2021-01-22 14:28:57+00:00  77179398  206490318  Βόλος   \n",
       "2  2904155390  GR-EFOOD 2021-01-29 13:52:24+00:00   7233822  206490318  Βόλος   \n",
       "3  2867086278  GR-EFOOD 2021-01-19 12:19:59+00:00  68621466  206490318  Βόλος   \n",
       "4  2875723043  GR-EFOOD 2021-01-21 20:08:59+00:00  17007258  206490318  Βόλος   \n",
       "\n",
       "    cuisine_parent  basket  \n",
       "0  Healthy / Other     9.0  \n",
       "1  Healthy / Other     7.0  \n",
       "2  Healthy / Other     6.3  \n",
       "3  Healthy / Other     7.0  \n",
       "4  Healthy / Other    11.8  "
      ]
     },
     "execution_count": 1082,
     "metadata": {},
     "output_type": "execute_result"
    }
   ],
   "source": [
    "df.head()"
   ]
  },
  {
   "cell_type": "code",
   "execution_count": 1083,
   "metadata": {
    "scrolled": false
   },
   "outputs": [
    {
     "data": {
      "image/png": "[encoded data removed]",
      "text/plain": [
       "<Figure size 432x288 with 1 Axes>"
      ]
     },
     "metadata": {
      "needs_background": "light"
     },
     "output_type": "display_data"
    }
   ],
   "source": [
    "#different types of cuisines\n",
    "\n",
    "df.cuisine_parent.value_counts().plot(kind='bar')\n",
    "plt.xticks(rotation=45)\n",
    "plt.ylabel('Count of orders')\n",
    "plt.title('Amount of Orders per Cuisine');"
   ]
  },
  {
   "cell_type": "code",
   "execution_count": 1084,
   "metadata": {},
   "outputs": [
    {
     "data": {
      "text/plain": [
       "Breakfast          0.375852\n",
       "Meat               0.284697\n",
       "Italian            0.131832\n",
       "Street food        0.076467\n",
       "Creperie           0.062615\n",
       "Traditional        0.037605\n",
       "Ethnic             0.021570\n",
       "Sweets             0.007112\n",
       "Healthy / Other    0.002247\n",
       "Name: cuisine_parent, dtype: float64"
      ]
     },
     "execution_count": 1084,
     "metadata": {},
     "output_type": "execute_result"
    }
   ],
   "source": [
    "#percentage of orders per cuisine\n",
    "df.cuisine_parent.value_counts(normalize=True)"
   ]
  },
  {
   "cell_type": "code",
   "execution_count": 1085,
   "metadata": {},
   "outputs": [
    {
     "data": {
      "text/plain": [
       "162954"
      ]
     },
     "execution_count": 1085,
     "metadata": {},
     "output_type": "execute_result"
    }
   ],
   "source": [
    "#unique amount of users\n",
    "df.user_id.nunique()"
   ]
  },
  {
   "cell_type": "code",
   "execution_count": 1086,
   "metadata": {},
   "outputs": [
    {
     "data": {
      "text/plain": [
       "3349"
      ]
     },
     "execution_count": 1086,
     "metadata": {},
     "output_type": "execute_result"
    }
   ],
   "source": [
    "df.shop_id.nunique()"
   ]
  },
  {
   "cell_type": "code",
   "execution_count": 1087,
   "metadata": {},
   "outputs": [
    {
     "data": {
      "text/plain": [
       "91"
      ]
     },
     "execution_count": 1087,
     "metadata": {},
     "output_type": "execute_result"
    }
   ],
   "source": [
    "#amount of cities where e-food is being used\n",
    "df.city.nunique()"
   ]
  },
  {
   "cell_type": "code",
   "execution_count": 1088,
   "metadata": {},
   "outputs": [
    {
     "data": {
      "text/plain": [
       "8.723202149999766"
      ]
     },
     "execution_count": 1088,
     "metadata": {},
     "output_type": "execute_result"
    }
   ],
   "source": [
    "#average purchase per order\n",
    "df.basket.mean()"
   ]
  },
  {
   "cell_type": "markdown",
   "metadata": {},
   "source": [
    "# 2. RFM Analysis"
   ]
  },
  {
   "cell_type": "markdown",
   "metadata": {},
   "source": [
    "RFM (Recency, Frequency, Monetary) analysis is a customer segmentation technique that uses past purchase behavior to divide customers into groups. RFM helps divide customers into various categories or clusters to identify customers who are more likely to respond to promotions and also for future personalisation services.\n",
    "\n",
    "- RECENCY (R): Days since last purchase\n",
    "- FREQUENCY (F): Total number of purchases\n",
    "- MONETARY VALUE (M): Total money this customer spent.\n",
    "\n",
    "We will create those 3 customer attributes for each customer. More details about RFM analysis can be found here: https://www.ibm.com/docs/en/spss-statistics/27.0.0?topic=marketing-rfm-analysis"
   ]
  },
  {
   "cell_type": "markdown",
   "metadata": {},
   "source": [
    "## 2.1 Recency"
   ]
  },
  {
   "cell_type": "markdown",
   "metadata": {},
   "source": [
    "To calculate recency, (days since last purchase occured), I have to choose a specific point in time to evaluate how many have elapsed since the last purchase of a user."
   ]
  },
  {
   "cell_type": "code",
   "execution_count": 1089,
   "metadata": {},
   "outputs": [
    {
     "name": "stdout",
     "output_type": "stream",
     "text": [
      "The latest available date in our dataset is 2021-01-31\n"
     ]
    }
   ],
   "source": [
    "latest_date = df['submit_dt'].max().date()\n",
    "print(f\"The latest available date in our dataset is {latest_date}\")"
   ]
  },
  {
   "cell_type": "markdown",
   "metadata": {},
   "source": [
    "Given that our dataset contains only dates in January 2021, I will use 2021-02-01 as reference date"
   ]
  },
  {
   "cell_type": "code",
   "execution_count": 1090,
   "metadata": {},
   "outputs": [
    {
     "name": "stdout",
     "output_type": "stream",
     "text": [
      "The reference date to approach the problem is: 2021-02-01\n"
     ]
    }
   ],
   "source": [
    "ref_date = dt.date(2021,2,1)\n",
    "print(f\"The reference date to approach the problem is: {ref_date}\")"
   ]
  },
  {
   "cell_type": "code",
   "execution_count": 1091,
   "metadata": {},
   "outputs": [],
   "source": [
    "# create a new column that contains only the date of every order\n",
    "df['order_date'] = df['submit_dt'].dt.date"
   ]
  },
  {
   "cell_type": "markdown",
   "metadata": {},
   "source": [
    "Here I will group users by user_id and check last date of purchase"
   ]
  },
  {
   "cell_type": "code",
   "execution_count": 1092,
   "metadata": {},
   "outputs": [
    {
     "data": {
      "text/html": [
       "<div>\n",
       "<style scoped>\n",
       "    .dataframe tbody tr th:only-of-type {\n",
       "        vertical-align: middle;\n",
       "    }\n",
       "\n",
       "    .dataframe tbody tr th {\n",
       "        vertical-align: top;\n",
       "    }\n",
       "\n",
       "    .dataframe thead th {\n",
       "        text-align: right;\n",
       "    }\n",
       "</style>\n",
       "<table border=\"1\" class=\"dataframe\">\n",
       "  <thead>\n",
       "    <tr style=\"text-align: right;\">\n",
       "      <th></th>\n",
       "      <th>user_id</th>\n",
       "      <th>Last_Purshace_Date</th>\n",
       "    </tr>\n",
       "  </thead>\n",
       "  <tbody>\n",
       "    <tr>\n",
       "      <th>0</th>\n",
       "      <td>27462</td>\n",
       "      <td>2021-01-06</td>\n",
       "    </tr>\n",
       "    <tr>\n",
       "      <th>1</th>\n",
       "      <td>39238</td>\n",
       "      <td>2021-01-27</td>\n",
       "    </tr>\n",
       "    <tr>\n",
       "      <th>2</th>\n",
       "      <td>41354</td>\n",
       "      <td>2021-01-28</td>\n",
       "    </tr>\n",
       "    <tr>\n",
       "      <th>3</th>\n",
       "      <td>44068</td>\n",
       "      <td>2021-01-17</td>\n",
       "    </tr>\n",
       "    <tr>\n",
       "      <th>4</th>\n",
       "      <td>49220</td>\n",
       "      <td>2021-01-04</td>\n",
       "    </tr>\n",
       "  </tbody>\n",
       "</table>\n",
       "</div>"
      ],
      "text/plain": [
       "   user_id Last_Purshace_Date\n",
       "0    27462         2021-01-06\n",
       "1    39238         2021-01-27\n",
       "2    41354         2021-01-28\n",
       "3    44068         2021-01-17\n",
       "4    49220         2021-01-04"
      ]
     },
     "execution_count": 1092,
     "metadata": {},
     "output_type": "execute_result"
    }
   ],
   "source": [
    "recency_df = df.groupby(by='user_id', as_index=False)['order_date'].max()\n",
    "recency_df.columns = ['user_id','Last_Purshace_Date']\n",
    "recency_df.head()"
   ]
  },
  {
   "cell_type": "code",
   "execution_count": 1093,
   "metadata": {},
   "outputs": [],
   "source": [
    "#recency calculation\n",
    "recency_df['Recency'] = recency_df['Last_Purshace_Date'].apply(lambda x: (ref_date - x).days)"
   ]
  },
  {
   "cell_type": "code",
   "execution_count": 1094,
   "metadata": {},
   "outputs": [
    {
     "data": {
      "text/html": [
       "<div>\n",
       "<style scoped>\n",
       "    .dataframe tbody tr th:only-of-type {\n",
       "        vertical-align: middle;\n",
       "    }\n",
       "\n",
       "    .dataframe tbody tr th {\n",
       "        vertical-align: top;\n",
       "    }\n",
       "\n",
       "    .dataframe thead th {\n",
       "        text-align: right;\n",
       "    }\n",
       "</style>\n",
       "<table border=\"1\" class=\"dataframe\">\n",
       "  <thead>\n",
       "    <tr style=\"text-align: right;\">\n",
       "      <th></th>\n",
       "      <th>user_id</th>\n",
       "      <th>Last_Purshace_Date</th>\n",
       "      <th>Recency</th>\n",
       "    </tr>\n",
       "  </thead>\n",
       "  <tbody>\n",
       "    <tr>\n",
       "      <th>0</th>\n",
       "      <td>27462</td>\n",
       "      <td>2021-01-06</td>\n",
       "      <td>26</td>\n",
       "    </tr>\n",
       "    <tr>\n",
       "      <th>1</th>\n",
       "      <td>39238</td>\n",
       "      <td>2021-01-27</td>\n",
       "      <td>5</td>\n",
       "    </tr>\n",
       "    <tr>\n",
       "      <th>2</th>\n",
       "      <td>41354</td>\n",
       "      <td>2021-01-28</td>\n",
       "      <td>4</td>\n",
       "    </tr>\n",
       "    <tr>\n",
       "      <th>3</th>\n",
       "      <td>44068</td>\n",
       "      <td>2021-01-17</td>\n",
       "      <td>15</td>\n",
       "    </tr>\n",
       "    <tr>\n",
       "      <th>4</th>\n",
       "      <td>49220</td>\n",
       "      <td>2021-01-04</td>\n",
       "      <td>28</td>\n",
       "    </tr>\n",
       "  </tbody>\n",
       "</table>\n",
       "</div>"
      ],
      "text/plain": [
       "   user_id Last_Purshace_Date  Recency\n",
       "0    27462         2021-01-06       26\n",
       "1    39238         2021-01-27        5\n",
       "2    41354         2021-01-28        4\n",
       "3    44068         2021-01-17       15\n",
       "4    49220         2021-01-04       28"
      ]
     },
     "execution_count": 1094,
     "metadata": {},
     "output_type": "execute_result"
    }
   ],
   "source": [
    "recency_df.head()"
   ]
  },
  {
   "cell_type": "code",
   "execution_count": 1095,
   "metadata": {},
   "outputs": [],
   "source": [
    "#drop Last_Purchase_Date as I don't need it anymore\n",
    "recency_df = recency_df.drop('Last_Purshace_Date',axis=1)"
   ]
  },
  {
   "cell_type": "code",
   "execution_count": 1096,
   "metadata": {},
   "outputs": [
    {
     "data": {
      "text/html": [
       "<div>\n",
       "<style scoped>\n",
       "    .dataframe tbody tr th:only-of-type {\n",
       "        vertical-align: middle;\n",
       "    }\n",
       "\n",
       "    .dataframe tbody tr th {\n",
       "        vertical-align: top;\n",
       "    }\n",
       "\n",
       "    .dataframe thead th {\n",
       "        text-align: right;\n",
       "    }\n",
       "</style>\n",
       "<table border=\"1\" class=\"dataframe\">\n",
       "  <thead>\n",
       "    <tr style=\"text-align: right;\">\n",
       "      <th></th>\n",
       "      <th>user_id</th>\n",
       "      <th>Recency</th>\n",
       "    </tr>\n",
       "  </thead>\n",
       "  <tbody>\n",
       "    <tr>\n",
       "      <th>0</th>\n",
       "      <td>27462</td>\n",
       "      <td>26</td>\n",
       "    </tr>\n",
       "    <tr>\n",
       "      <th>1</th>\n",
       "      <td>39238</td>\n",
       "      <td>5</td>\n",
       "    </tr>\n",
       "    <tr>\n",
       "      <th>2</th>\n",
       "      <td>41354</td>\n",
       "      <td>4</td>\n",
       "    </tr>\n",
       "    <tr>\n",
       "      <th>3</th>\n",
       "      <td>44068</td>\n",
       "      <td>15</td>\n",
       "    </tr>\n",
       "    <tr>\n",
       "      <th>4</th>\n",
       "      <td>49220</td>\n",
       "      <td>28</td>\n",
       "    </tr>\n",
       "  </tbody>\n",
       "</table>\n",
       "</div>"
      ],
      "text/plain": [
       "   user_id  Recency\n",
       "0    27462       26\n",
       "1    39238        5\n",
       "2    41354        4\n",
       "3    44068       15\n",
       "4    49220       28"
      ]
     },
     "execution_count": 1096,
     "metadata": {},
     "output_type": "execute_result"
    }
   ],
   "source": [
    "recency_df.head()"
   ]
  },
  {
   "cell_type": "code",
   "execution_count": 1097,
   "metadata": {},
   "outputs": [
    {
     "data": {
      "image/png": "[encoded data removed]",
      "text/plain": [
       "<Figure size 432x288 with 1 Axes>"
      ]
     },
     "metadata": {
      "needs_background": "light"
     },
     "output_type": "display_data"
    }
   ],
   "source": [
    "#Distribution plot for Recency values\n",
    "sns.distplot(recency_df['Recency'])\n",
    "plt.title('Recency Distribution');"
   ]
  },
  {
   "cell_type": "markdown",
   "metadata": {},
   "source": [
    "## 2.2 Frequency"
   ]
  },
  {
   "cell_type": "markdown",
   "metadata": {},
   "source": [
    "Frequency helps us to know how many times a customer purchased from efood. To do that we need to check how many orders are registered by the same user."
   ]
  },
  {
   "cell_type": "code",
   "execution_count": 1098,
   "metadata": {},
   "outputs": [
    {
     "data": {
      "text/html": [
       "<div>\n",
       "<style scoped>\n",
       "    .dataframe tbody tr th:only-of-type {\n",
       "        vertical-align: middle;\n",
       "    }\n",
       "\n",
       "    .dataframe tbody tr th {\n",
       "        vertical-align: top;\n",
       "    }\n",
       "\n",
       "    .dataframe thead th {\n",
       "        text-align: right;\n",
       "    }\n",
       "</style>\n",
       "<table border=\"1\" class=\"dataframe\">\n",
       "  <thead>\n",
       "    <tr style=\"text-align: right;\">\n",
       "      <th></th>\n",
       "      <th>user_id</th>\n",
       "      <th>Frequency</th>\n",
       "    </tr>\n",
       "  </thead>\n",
       "  <tbody>\n",
       "    <tr>\n",
       "      <th>0</th>\n",
       "      <td>27462</td>\n",
       "      <td>1</td>\n",
       "    </tr>\n",
       "    <tr>\n",
       "      <th>1</th>\n",
       "      <td>39238</td>\n",
       "      <td>2</td>\n",
       "    </tr>\n",
       "    <tr>\n",
       "      <th>2</th>\n",
       "      <td>41354</td>\n",
       "      <td>4</td>\n",
       "    </tr>\n",
       "    <tr>\n",
       "      <th>3</th>\n",
       "      <td>44068</td>\n",
       "      <td>1</td>\n",
       "    </tr>\n",
       "    <tr>\n",
       "      <th>4</th>\n",
       "      <td>49220</td>\n",
       "      <td>1</td>\n",
       "    </tr>\n",
       "  </tbody>\n",
       "</table>\n",
       "</div>"
      ],
      "text/plain": [
       "   user_id  Frequency\n",
       "0    27462          1\n",
       "1    39238          2\n",
       "2    41354          4\n",
       "3    44068          1\n",
       "4    49220          1"
      ]
     },
     "execution_count": 1098,
     "metadata": {},
     "output_type": "execute_result"
    }
   ],
   "source": [
    "#calculate frequency of purchases\n",
    "frequency_df = df.groupby(by=['user_id'], as_index=False)['order_id'].count()\n",
    "frequency_df.columns = ['user_id','Frequency']\n",
    "frequency_df.head()"
   ]
  },
  {
   "cell_type": "code",
   "execution_count": 1099,
   "metadata": {},
   "outputs": [
    {
     "name": "stdout",
     "output_type": "stream",
     "text": [
      "<class 'pandas.core.frame.DataFrame'>\n",
      "Int64Index: 162954 entries, 0 to 162953\n",
      "Data columns (total 2 columns):\n",
      " #   Column     Non-Null Count   Dtype\n",
      "---  ------     --------------   -----\n",
      " 0   user_id    162954 non-null  int64\n",
      " 1   Frequency  162954 non-null  int64\n",
      "dtypes: int64(2)\n",
      "memory usage: 3.7 MB\n"
     ]
    }
   ],
   "source": [
    "frequency_df.info()"
   ]
  },
  {
   "cell_type": "code",
   "execution_count": 1100,
   "metadata": {},
   "outputs": [
    {
     "data": {
      "text/html": [
       "<div>\n",
       "<style scoped>\n",
       "    .dataframe tbody tr th:only-of-type {\n",
       "        vertical-align: middle;\n",
       "    }\n",
       "\n",
       "    .dataframe tbody tr th {\n",
       "        vertical-align: top;\n",
       "    }\n",
       "\n",
       "    .dataframe thead th {\n",
       "        text-align: right;\n",
       "    }\n",
       "</style>\n",
       "<table border=\"1\" class=\"dataframe\">\n",
       "  <thead>\n",
       "    <tr style=\"text-align: right;\">\n",
       "      <th></th>\n",
       "      <th>user_id</th>\n",
       "      <th>Frequency</th>\n",
       "    </tr>\n",
       "  </thead>\n",
       "  <tbody>\n",
       "    <tr>\n",
       "      <th>115910</th>\n",
       "      <td>106414882</td>\n",
       "      <td>33</td>\n",
       "    </tr>\n",
       "    <tr>\n",
       "      <th>56428</th>\n",
       "      <td>50885108</td>\n",
       "      <td>31</td>\n",
       "    </tr>\n",
       "    <tr>\n",
       "      <th>48089</th>\n",
       "      <td>42623692</td>\n",
       "      <td>29</td>\n",
       "    </tr>\n",
       "    <tr>\n",
       "      <th>40811</th>\n",
       "      <td>36239490</td>\n",
       "      <td>28</td>\n",
       "    </tr>\n",
       "    <tr>\n",
       "      <th>98465</th>\n",
       "      <td>88123534</td>\n",
       "      <td>28</td>\n",
       "    </tr>\n",
       "    <tr>\n",
       "      <th>...</th>\n",
       "      <td>...</td>\n",
       "      <td>...</td>\n",
       "    </tr>\n",
       "    <tr>\n",
       "      <th>76836</th>\n",
       "      <td>68539218</td>\n",
       "      <td>1</td>\n",
       "    </tr>\n",
       "    <tr>\n",
       "      <th>76831</th>\n",
       "      <td>68533054</td>\n",
       "      <td>1</td>\n",
       "    </tr>\n",
       "    <tr>\n",
       "      <th>76830</th>\n",
       "      <td>68532916</td>\n",
       "      <td>1</td>\n",
       "    </tr>\n",
       "    <tr>\n",
       "      <th>76825</th>\n",
       "      <td>68524176</td>\n",
       "      <td>1</td>\n",
       "    </tr>\n",
       "    <tr>\n",
       "      <th>162953</th>\n",
       "      <td>198285208</td>\n",
       "      <td>1</td>\n",
       "    </tr>\n",
       "  </tbody>\n",
       "</table>\n",
       "<p>162954 rows × 2 columns</p>\n",
       "</div>"
      ],
      "text/plain": [
       "          user_id  Frequency\n",
       "115910  106414882         33\n",
       "56428    50885108         31\n",
       "48089    42623692         29\n",
       "40811    36239490         28\n",
       "98465    88123534         28\n",
       "...           ...        ...\n",
       "76836    68539218          1\n",
       "76831    68533054          1\n",
       "76830    68532916          1\n",
       "76825    68524176          1\n",
       "162953  198285208          1\n",
       "\n",
       "[162954 rows x 2 columns]"
      ]
     },
     "execution_count": 1100,
     "metadata": {},
     "output_type": "execute_result"
    }
   ],
   "source": [
    "frequency_df.sort_values(by='Frequency', ascending=False)"
   ]
  },
  {
   "cell_type": "code",
   "execution_count": 1101,
   "metadata": {},
   "outputs": [
    {
     "data": {
      "image/png": "[encoded data removed]",
      "text/plain": [
       "<Figure size 432x288 with 1 Axes>"
      ]
     },
     "metadata": {
      "needs_background": "light"
     },
     "output_type": "display_data"
    }
   ],
   "source": [
    "#Distribution plot for Frequency values\n",
    "sns.distplot(frequency_df['Frequency'])\n",
    "plt.title('Frequency Distribution');"
   ]
  },
  {
   "cell_type": "markdown",
   "metadata": {},
   "source": [
    "## 2.3 Monetary (Order Value)"
   ]
  },
  {
   "cell_type": "markdown",
   "metadata": {},
   "source": [
    "Monetary attribute answers the question: How much money did the customer spent over time?\n",
    "\n",
    "To do that, I will calculate the total amount spent per customer from the basket column."
   ]
  },
  {
   "cell_type": "code",
   "execution_count": 1102,
   "metadata": {
    "scrolled": true
   },
   "outputs": [
    {
     "data": {
      "text/html": [
       "<div>\n",
       "<style scoped>\n",
       "    .dataframe tbody tr th:only-of-type {\n",
       "        vertical-align: middle;\n",
       "    }\n",
       "\n",
       "    .dataframe tbody tr th {\n",
       "        vertical-align: top;\n",
       "    }\n",
       "\n",
       "    .dataframe thead th {\n",
       "        text-align: right;\n",
       "    }\n",
       "</style>\n",
       "<table border=\"1\" class=\"dataframe\">\n",
       "  <thead>\n",
       "    <tr style=\"text-align: right;\">\n",
       "      <th></th>\n",
       "      <th>user_id</th>\n",
       "      <th>Monetary</th>\n",
       "    </tr>\n",
       "  </thead>\n",
       "  <tbody>\n",
       "    <tr>\n",
       "      <th>0</th>\n",
       "      <td>27462</td>\n",
       "      <td>10.6</td>\n",
       "    </tr>\n",
       "    <tr>\n",
       "      <th>1</th>\n",
       "      <td>39238</td>\n",
       "      <td>35.0</td>\n",
       "    </tr>\n",
       "    <tr>\n",
       "      <th>2</th>\n",
       "      <td>41354</td>\n",
       "      <td>29.0</td>\n",
       "    </tr>\n",
       "    <tr>\n",
       "      <th>3</th>\n",
       "      <td>44068</td>\n",
       "      <td>19.5</td>\n",
       "    </tr>\n",
       "    <tr>\n",
       "      <th>4</th>\n",
       "      <td>49220</td>\n",
       "      <td>5.3</td>\n",
       "    </tr>\n",
       "  </tbody>\n",
       "</table>\n",
       "</div>"
      ],
      "text/plain": [
       "   user_id  Monetary\n",
       "0    27462      10.6\n",
       "1    39238      35.0\n",
       "2    41354      29.0\n",
       "3    44068      19.5\n",
       "4    49220       5.3"
      ]
     },
     "execution_count": 1102,
     "metadata": {},
     "output_type": "execute_result"
    }
   ],
   "source": [
    "monetary_df = df.groupby(by='user_id',as_index=False).agg({'basket': 'sum'})\n",
    "monetary_df.columns = ['user_id','Monetary']\n",
    "monetary_df.head()"
   ]
  },
  {
   "cell_type": "code",
   "execution_count": 1103,
   "metadata": {},
   "outputs": [
    {
     "data": {
      "image/png": "[encoded data removed]",
      "text/plain": [
       "<Figure size 432x288 with 1 Axes>"
      ]
     },
     "metadata": {
      "needs_background": "light"
     },
     "output_type": "display_data"
    }
   ],
   "source": [
    "#Distribution plot for Monetary values\n",
    "sns.distplot(monetary_df['Monetary'])\n",
    "plt.title('Monetary Distribution');"
   ]
  },
  {
   "cell_type": "markdown",
   "metadata": {},
   "source": [
    "## 2.4 Create Recency-Frequency-Monetary table"
   ]
  },
  {
   "cell_type": "code",
   "execution_count": 1104,
   "metadata": {},
   "outputs": [
    {
     "data": {
      "text/html": [
       "<div>\n",
       "<style scoped>\n",
       "    .dataframe tbody tr th:only-of-type {\n",
       "        vertical-align: middle;\n",
       "    }\n",
       "\n",
       "    .dataframe tbody tr th {\n",
       "        vertical-align: top;\n",
       "    }\n",
       "\n",
       "    .dataframe thead th {\n",
       "        text-align: right;\n",
       "    }\n",
       "</style>\n",
       "<table border=\"1\" class=\"dataframe\">\n",
       "  <thead>\n",
       "    <tr style=\"text-align: right;\">\n",
       "      <th></th>\n",
       "      <th>user_id</th>\n",
       "      <th>Recency</th>\n",
       "      <th>Frequency</th>\n",
       "    </tr>\n",
       "  </thead>\n",
       "  <tbody>\n",
       "    <tr>\n",
       "      <th>0</th>\n",
       "      <td>27462</td>\n",
       "      <td>26</td>\n",
       "      <td>1</td>\n",
       "    </tr>\n",
       "    <tr>\n",
       "      <th>1</th>\n",
       "      <td>39238</td>\n",
       "      <td>5</td>\n",
       "      <td>2</td>\n",
       "    </tr>\n",
       "    <tr>\n",
       "      <th>2</th>\n",
       "      <td>41354</td>\n",
       "      <td>4</td>\n",
       "      <td>4</td>\n",
       "    </tr>\n",
       "    <tr>\n",
       "      <th>3</th>\n",
       "      <td>44068</td>\n",
       "      <td>15</td>\n",
       "      <td>1</td>\n",
       "    </tr>\n",
       "    <tr>\n",
       "      <th>4</th>\n",
       "      <td>49220</td>\n",
       "      <td>28</td>\n",
       "      <td>1</td>\n",
       "    </tr>\n",
       "  </tbody>\n",
       "</table>\n",
       "</div>"
      ],
      "text/plain": [
       "   user_id  Recency  Frequency\n",
       "0    27462       26          1\n",
       "1    39238        5          2\n",
       "2    41354        4          4\n",
       "3    44068       15          1\n",
       "4    49220       28          1"
      ]
     },
     "execution_count": 1104,
     "metadata": {},
     "output_type": "execute_result"
    }
   ],
   "source": [
    "rf_df = pd.merge(recency_df, frequency_df, on='user_id')\n",
    "rf_df.head()"
   ]
  },
  {
   "cell_type": "code",
   "execution_count": 1105,
   "metadata": {},
   "outputs": [
    {
     "data": {
      "text/html": [
       "<div>\n",
       "<style scoped>\n",
       "    .dataframe tbody tr th:only-of-type {\n",
       "        vertical-align: middle;\n",
       "    }\n",
       "\n",
       "    .dataframe tbody tr th {\n",
       "        vertical-align: top;\n",
       "    }\n",
       "\n",
       "    .dataframe thead th {\n",
       "        text-align: right;\n",
       "    }\n",
       "</style>\n",
       "<table border=\"1\" class=\"dataframe\">\n",
       "  <thead>\n",
       "    <tr style=\"text-align: right;\">\n",
       "      <th></th>\n",
       "      <th>Recency</th>\n",
       "      <th>Frequency</th>\n",
       "      <th>Monetary</th>\n",
       "    </tr>\n",
       "    <tr>\n",
       "      <th>user_id</th>\n",
       "      <th></th>\n",
       "      <th></th>\n",
       "      <th></th>\n",
       "    </tr>\n",
       "  </thead>\n",
       "  <tbody>\n",
       "    <tr>\n",
       "      <th>27462</th>\n",
       "      <td>26</td>\n",
       "      <td>1</td>\n",
       "      <td>10.6</td>\n",
       "    </tr>\n",
       "    <tr>\n",
       "      <th>39238</th>\n",
       "      <td>5</td>\n",
       "      <td>2</td>\n",
       "      <td>35.0</td>\n",
       "    </tr>\n",
       "    <tr>\n",
       "      <th>41354</th>\n",
       "      <td>4</td>\n",
       "      <td>4</td>\n",
       "      <td>29.0</td>\n",
       "    </tr>\n",
       "    <tr>\n",
       "      <th>44068</th>\n",
       "      <td>15</td>\n",
       "      <td>1</td>\n",
       "      <td>19.5</td>\n",
       "    </tr>\n",
       "    <tr>\n",
       "      <th>49220</th>\n",
       "      <td>28</td>\n",
       "      <td>1</td>\n",
       "      <td>5.3</td>\n",
       "    </tr>\n",
       "  </tbody>\n",
       "</table>\n",
       "</div>"
      ],
      "text/plain": [
       "         Recency  Frequency  Monetary\n",
       "user_id                              \n",
       "27462         26          1      10.6\n",
       "39238          5          2      35.0\n",
       "41354          4          4      29.0\n",
       "44068         15          1      19.5\n",
       "49220         28          1       5.3"
      ]
     },
     "execution_count": 1105,
     "metadata": {},
     "output_type": "execute_result"
    }
   ],
   "source": [
    "#merge frequency dataframe with monetary dataframe\n",
    "rfm_df = pd.merge(rf_df, monetary_df,on='user_id')\n",
    "#use user_id as index\n",
    "rfm_df = rfm_df.set_index('user_id')\n",
    "#check the head\n",
    "rfm_df.head()"
   ]
  },
  {
   "cell_type": "code",
   "execution_count": 1106,
   "metadata": {},
   "outputs": [
    {
     "name": "stdout",
     "output_type": "stream",
     "text": [
      "<class 'pandas.core.frame.DataFrame'>\n",
      "Int64Index: 162954 entries, 27462 to 198285208\n",
      "Data columns (total 3 columns):\n",
      " #   Column     Non-Null Count   Dtype  \n",
      "---  ------     --------------   -----  \n",
      " 0   Recency    162954 non-null  int64  \n",
      " 1   Frequency  162954 non-null  int64  \n",
      " 2   Monetary   162954 non-null  float64\n",
      "dtypes: float64(1), int64(2)\n",
      "memory usage: 5.0 MB\n"
     ]
    }
   ],
   "source": [
    "rfm_df.info()"
   ]
  },
  {
   "cell_type": "markdown",
   "metadata": {},
   "source": [
    "# 3. Customer Segments with Recency-Frequency-Monetary(RFM) model"
   ]
  },
  {
   "cell_type": "markdown",
   "metadata": {},
   "source": [
    "A good approach to create customers segments from FM Model is to use quintiles. We assign a score from 1 to 5 to Frequency and Monetary columns to give a good level of granularity to our model. This number could alter according to the business needs and targets. In the current approach, five is the best/highest value, and one is the lowest/worst value. The final FM score is calculated  by combining individual Frequency and Monetary score numbers."
   ]
  },
  {
   "cell_type": "markdown",
   "metadata": {},
   "source": [
    "## 3.1 Recency-Frequency-Monetary Quintiles"
   ]
  },
  {
   "cell_type": "code",
   "execution_count": 1107,
   "metadata": {},
   "outputs": [
    {
     "data": {
      "text/html": [
       "<div>\n",
       "<style scoped>\n",
       "    .dataframe tbody tr th:only-of-type {\n",
       "        vertical-align: middle;\n",
       "    }\n",
       "\n",
       "    .dataframe tbody tr th {\n",
       "        vertical-align: top;\n",
       "    }\n",
       "\n",
       "    .dataframe thead th {\n",
       "        text-align: right;\n",
       "    }\n",
       "</style>\n",
       "<table border=\"1\" class=\"dataframe\">\n",
       "  <thead>\n",
       "    <tr style=\"text-align: right;\">\n",
       "      <th></th>\n",
       "      <th>Recency</th>\n",
       "      <th>Frequency</th>\n",
       "      <th>Monetary</th>\n",
       "    </tr>\n",
       "  </thead>\n",
       "  <tbody>\n",
       "    <tr>\n",
       "      <th>0.2</th>\n",
       "      <td>3.0</td>\n",
       "      <td>1.0</td>\n",
       "      <td>7.1</td>\n",
       "    </tr>\n",
       "    <tr>\n",
       "      <th>0.4</th>\n",
       "      <td>7.0</td>\n",
       "      <td>1.0</td>\n",
       "      <td>12.2</td>\n",
       "    </tr>\n",
       "    <tr>\n",
       "      <th>0.6</th>\n",
       "      <td>12.0</td>\n",
       "      <td>2.0</td>\n",
       "      <td>19.0</td>\n",
       "    </tr>\n",
       "    <tr>\n",
       "      <th>0.8</th>\n",
       "      <td>21.0</td>\n",
       "      <td>3.0</td>\n",
       "      <td>31.5</td>\n",
       "    </tr>\n",
       "  </tbody>\n",
       "</table>\n",
       "</div>"
      ],
      "text/plain": [
       "     Recency  Frequency  Monetary\n",
       "0.2      3.0        1.0       7.1\n",
       "0.4      7.0        1.0      12.2\n",
       "0.6     12.0        2.0      19.0\n",
       "0.8     21.0        3.0      31.5"
      ]
     },
     "execution_count": 1107,
     "metadata": {},
     "output_type": "execute_result"
    }
   ],
   "source": [
    "quintiles = rfm_df.quantile(q=[0.2,0.4,0.6,0.8])\n",
    "quintiles"
   ]
  },
  {
   "cell_type": "code",
   "execution_count": 1108,
   "metadata": {},
   "outputs": [
    {
     "data": {
      "text/plain": [
       "{'Recency': {0.2: 3.0, 0.4: 7.0, 0.6: 12.0, 0.8: 21.0},\n",
       " 'Frequency': {0.2: 1.0, 0.4: 1.0, 0.6: 2.0, 0.8: 3.0},\n",
       " 'Monetary': {0.2: 7.1, 0.4: 12.2, 0.6: 19.0, 0.8: 31.5}}"
      ]
     },
     "execution_count": 1108,
     "metadata": {},
     "output_type": "execute_result"
    }
   ],
   "source": [
    "quintiles.to_dict()"
   ]
  },
  {
   "cell_type": "markdown",
   "metadata": {},
   "source": [
    "## 3.2 Creation of segments"
   ]
  },
  {
   "cell_type": "markdown",
   "metadata": {},
   "source": [
    "In this section, I will create a function to match the recency, frequency and monetary values with values from one to five. In terms of recency a high  absolute value is bad for our model. On the other hand, frequency and monetary attributes follow the same pattern, the higher the value the better the score. Therefore, I will have to set up two functions in order to clasify those attributes."
   ]
  },
  {
   "cell_type": "code",
   "execution_count": 1109,
   "metadata": {},
   "outputs": [],
   "source": [
    "def RecencyScore(x,p,q):\n",
    "    \"\"\" This function matches values of Recency column with relevant quintiles\n",
    "    x: value\n",
    "    p: Recency value\n",
    "    q: quintiles dictionary\n",
    "    \"\"\"\n",
    "    if x <= q[p][0.20]:\n",
    "        return 5\n",
    "    elif x <= q[p][0.40]:\n",
    "        return 4\n",
    "    elif x <= q[p][0.60]:\n",
    "        return 3\n",
    "    elif x <= q[p][0.80]: \n",
    "        return 2\n",
    "    else:\n",
    "        return 1"
   ]
  },
  {
   "cell_type": "code",
   "execution_count": 1110,
   "metadata": {},
   "outputs": [],
   "source": [
    "def FMScore(x,p,q):\n",
    "    \"\"\" This function matches values of Frequency and Monetary columns with relevant quintiles\n",
    "    x: value\n",
    "    p: Frequency and Monetary values\n",
    "    q: quintiles dictionary\n",
    "    \"\"\"\n",
    "    if x <= q[p][0.20]:\n",
    "        return 1\n",
    "    elif x <= q[p][0.40]:\n",
    "        return 2\n",
    "    elif x <= q[p][0.60]:\n",
    "        return 3\n",
    "    elif x <= q[p][0.80]: \n",
    "        return 4\n",
    "    else:\n",
    "        return 5"
   ]
  },
  {
   "cell_type": "code",
   "execution_count": 1111,
   "metadata": {},
   "outputs": [],
   "source": [
    "#create FM segmentation table\n",
    "rfm_segmentation = rfm_df\n",
    "rfm_segmentation['R_Quintile'] = rfm_segmentation['Recency'].apply(RecencyScore, args=('Recency',quintiles,))\n",
    "rfm_segmentation['F_Quintile'] = rfm_segmentation['Frequency'].apply(FMScore, args=('Frequency',quintiles,))\n",
    "rfm_segmentation['M_Quintile'] = rfm_segmentation['Monetary'].apply(FMScore, args=('Monetary',quintiles,))"
   ]
  },
  {
   "cell_type": "code",
   "execution_count": 1112,
   "metadata": {},
   "outputs": [
    {
     "data": {
      "text/html": [
       "<div>\n",
       "<style scoped>\n",
       "    .dataframe tbody tr th:only-of-type {\n",
       "        vertical-align: middle;\n",
       "    }\n",
       "\n",
       "    .dataframe tbody tr th {\n",
       "        vertical-align: top;\n",
       "    }\n",
       "\n",
       "    .dataframe thead th {\n",
       "        text-align: right;\n",
       "    }\n",
       "</style>\n",
       "<table border=\"1\" class=\"dataframe\">\n",
       "  <thead>\n",
       "    <tr style=\"text-align: right;\">\n",
       "      <th></th>\n",
       "      <th>Recency</th>\n",
       "      <th>Frequency</th>\n",
       "      <th>Monetary</th>\n",
       "      <th>R_Quintile</th>\n",
       "      <th>F_Quintile</th>\n",
       "      <th>M_Quintile</th>\n",
       "    </tr>\n",
       "    <tr>\n",
       "      <th>user_id</th>\n",
       "      <th></th>\n",
       "      <th></th>\n",
       "      <th></th>\n",
       "      <th></th>\n",
       "      <th></th>\n",
       "      <th></th>\n",
       "    </tr>\n",
       "  </thead>\n",
       "  <tbody>\n",
       "    <tr>\n",
       "      <th>27462</th>\n",
       "      <td>26</td>\n",
       "      <td>1</td>\n",
       "      <td>10.6</td>\n",
       "      <td>1</td>\n",
       "      <td>1</td>\n",
       "      <td>2</td>\n",
       "    </tr>\n",
       "    <tr>\n",
       "      <th>39238</th>\n",
       "      <td>5</td>\n",
       "      <td>2</td>\n",
       "      <td>35.0</td>\n",
       "      <td>4</td>\n",
       "      <td>3</td>\n",
       "      <td>5</td>\n",
       "    </tr>\n",
       "    <tr>\n",
       "      <th>41354</th>\n",
       "      <td>4</td>\n",
       "      <td>4</td>\n",
       "      <td>29.0</td>\n",
       "      <td>4</td>\n",
       "      <td>5</td>\n",
       "      <td>4</td>\n",
       "    </tr>\n",
       "    <tr>\n",
       "      <th>44068</th>\n",
       "      <td>15</td>\n",
       "      <td>1</td>\n",
       "      <td>19.5</td>\n",
       "      <td>2</td>\n",
       "      <td>1</td>\n",
       "      <td>4</td>\n",
       "    </tr>\n",
       "    <tr>\n",
       "      <th>49220</th>\n",
       "      <td>28</td>\n",
       "      <td>1</td>\n",
       "      <td>5.3</td>\n",
       "      <td>1</td>\n",
       "      <td>1</td>\n",
       "      <td>1</td>\n",
       "    </tr>\n",
       "  </tbody>\n",
       "</table>\n",
       "</div>"
      ],
      "text/plain": [
       "         Recency  Frequency  Monetary  R_Quintile  F_Quintile  M_Quintile\n",
       "user_id                                                                  \n",
       "27462         26          1      10.6           1           1           2\n",
       "39238          5          2      35.0           4           3           5\n",
       "41354          4          4      29.0           4           5           4\n",
       "44068         15          1      19.5           2           1           4\n",
       "49220         28          1       5.3           1           1           1"
      ]
     },
     "execution_count": 1112,
     "metadata": {},
     "output_type": "execute_result"
    }
   ],
   "source": [
    "rfm_segmentation.head()"
   ]
  },
  {
   "cell_type": "markdown",
   "metadata": {},
   "source": [
    "Now that we have the score of each user, we can represent our customer segmentation. To do so, we need to combine the R_Quintile, F_Quintile,M_Quintile scores into a new column which will give us the final score for each customer."
   ]
  },
  {
   "cell_type": "code",
   "execution_count": 1113,
   "metadata": {},
   "outputs": [
    {
     "data": {
      "text/html": [
       "<div>\n",
       "<style scoped>\n",
       "    .dataframe tbody tr th:only-of-type {\n",
       "        vertical-align: middle;\n",
       "    }\n",
       "\n",
       "    .dataframe tbody tr th {\n",
       "        vertical-align: top;\n",
       "    }\n",
       "\n",
       "    .dataframe thead th {\n",
       "        text-align: right;\n",
       "    }\n",
       "</style>\n",
       "<table border=\"1\" class=\"dataframe\">\n",
       "  <thead>\n",
       "    <tr style=\"text-align: right;\">\n",
       "      <th></th>\n",
       "      <th>Recency</th>\n",
       "      <th>Frequency</th>\n",
       "      <th>Monetary</th>\n",
       "      <th>R_Quintile</th>\n",
       "      <th>F_Quintile</th>\n",
       "      <th>M_Quintile</th>\n",
       "      <th>RFM_Score</th>\n",
       "    </tr>\n",
       "    <tr>\n",
       "      <th>user_id</th>\n",
       "      <th></th>\n",
       "      <th></th>\n",
       "      <th></th>\n",
       "      <th></th>\n",
       "      <th></th>\n",
       "      <th></th>\n",
       "      <th></th>\n",
       "    </tr>\n",
       "  </thead>\n",
       "  <tbody>\n",
       "    <tr>\n",
       "      <th>27462</th>\n",
       "      <td>26</td>\n",
       "      <td>1</td>\n",
       "      <td>10.6</td>\n",
       "      <td>1</td>\n",
       "      <td>1</td>\n",
       "      <td>2</td>\n",
       "      <td>112</td>\n",
       "    </tr>\n",
       "    <tr>\n",
       "      <th>39238</th>\n",
       "      <td>5</td>\n",
       "      <td>2</td>\n",
       "      <td>35.0</td>\n",
       "      <td>4</td>\n",
       "      <td>3</td>\n",
       "      <td>5</td>\n",
       "      <td>435</td>\n",
       "    </tr>\n",
       "    <tr>\n",
       "      <th>41354</th>\n",
       "      <td>4</td>\n",
       "      <td>4</td>\n",
       "      <td>29.0</td>\n",
       "      <td>4</td>\n",
       "      <td>5</td>\n",
       "      <td>4</td>\n",
       "      <td>454</td>\n",
       "    </tr>\n",
       "    <tr>\n",
       "      <th>44068</th>\n",
       "      <td>15</td>\n",
       "      <td>1</td>\n",
       "      <td>19.5</td>\n",
       "      <td>2</td>\n",
       "      <td>1</td>\n",
       "      <td>4</td>\n",
       "      <td>214</td>\n",
       "    </tr>\n",
       "    <tr>\n",
       "      <th>49220</th>\n",
       "      <td>28</td>\n",
       "      <td>1</td>\n",
       "      <td>5.3</td>\n",
       "      <td>1</td>\n",
       "      <td>1</td>\n",
       "      <td>1</td>\n",
       "      <td>111</td>\n",
       "    </tr>\n",
       "  </tbody>\n",
       "</table>\n",
       "</div>"
      ],
      "text/plain": [
       "         Recency  Frequency  Monetary  R_Quintile  F_Quintile  M_Quintile  \\\n",
       "user_id                                                                     \n",
       "27462         26          1      10.6           1           1           2   \n",
       "39238          5          2      35.0           4           3           5   \n",
       "41354          4          4      29.0           4           5           4   \n",
       "44068         15          1      19.5           2           1           4   \n",
       "49220         28          1       5.3           1           1           1   \n",
       "\n",
       "        RFM_Score  \n",
       "user_id            \n",
       "27462         112  \n",
       "39238         435  \n",
       "41354         454  \n",
       "44068         214  \n",
       "49220         111  "
      ]
     },
     "execution_count": 1113,
     "metadata": {},
     "output_type": "execute_result"
    }
   ],
   "source": [
    "rfm_segmentation['RFM_Score'] =   rfm_segmentation.R_Quintile.map(str) + rfm_segmentation.F_Quintile.map(str) + rfm_segmentation.M_Quintile.map(str)\n",
    "rfm_segmentation.head()"
   ]
  },
  {
   "cell_type": "code",
   "execution_count": 1114,
   "metadata": {},
   "outputs": [
    {
     "data": {
      "text/html": [
       "<div>\n",
       "<style scoped>\n",
       "    .dataframe tbody tr th:only-of-type {\n",
       "        vertical-align: middle;\n",
       "    }\n",
       "\n",
       "    .dataframe tbody tr th {\n",
       "        vertical-align: top;\n",
       "    }\n",
       "\n",
       "    .dataframe thead th {\n",
       "        text-align: right;\n",
       "    }\n",
       "</style>\n",
       "<table border=\"1\" class=\"dataframe\">\n",
       "  <thead>\n",
       "    <tr style=\"text-align: right;\">\n",
       "      <th></th>\n",
       "      <th>Recency</th>\n",
       "      <th>Frequency</th>\n",
       "      <th>Monetary</th>\n",
       "      <th>R_Quintile</th>\n",
       "      <th>F_Quintile</th>\n",
       "      <th>M_Quintile</th>\n",
       "      <th>RFM_Score</th>\n",
       "      <th>Total_score</th>\n",
       "    </tr>\n",
       "    <tr>\n",
       "      <th>user_id</th>\n",
       "      <th></th>\n",
       "      <th></th>\n",
       "      <th></th>\n",
       "      <th></th>\n",
       "      <th></th>\n",
       "      <th></th>\n",
       "      <th></th>\n",
       "      <th></th>\n",
       "    </tr>\n",
       "  </thead>\n",
       "  <tbody>\n",
       "    <tr>\n",
       "      <th>27462</th>\n",
       "      <td>26</td>\n",
       "      <td>1</td>\n",
       "      <td>10.6</td>\n",
       "      <td>1</td>\n",
       "      <td>1</td>\n",
       "      <td>2</td>\n",
       "      <td>112</td>\n",
       "      <td>4</td>\n",
       "    </tr>\n",
       "    <tr>\n",
       "      <th>39238</th>\n",
       "      <td>5</td>\n",
       "      <td>2</td>\n",
       "      <td>35.0</td>\n",
       "      <td>4</td>\n",
       "      <td>3</td>\n",
       "      <td>5</td>\n",
       "      <td>435</td>\n",
       "      <td>12</td>\n",
       "    </tr>\n",
       "    <tr>\n",
       "      <th>41354</th>\n",
       "      <td>4</td>\n",
       "      <td>4</td>\n",
       "      <td>29.0</td>\n",
       "      <td>4</td>\n",
       "      <td>5</td>\n",
       "      <td>4</td>\n",
       "      <td>454</td>\n",
       "      <td>13</td>\n",
       "    </tr>\n",
       "    <tr>\n",
       "      <th>44068</th>\n",
       "      <td>15</td>\n",
       "      <td>1</td>\n",
       "      <td>19.5</td>\n",
       "      <td>2</td>\n",
       "      <td>1</td>\n",
       "      <td>4</td>\n",
       "      <td>214</td>\n",
       "      <td>7</td>\n",
       "    </tr>\n",
       "    <tr>\n",
       "      <th>49220</th>\n",
       "      <td>28</td>\n",
       "      <td>1</td>\n",
       "      <td>5.3</td>\n",
       "      <td>1</td>\n",
       "      <td>1</td>\n",
       "      <td>1</td>\n",
       "      <td>111</td>\n",
       "      <td>3</td>\n",
       "    </tr>\n",
       "  </tbody>\n",
       "</table>\n",
       "</div>"
      ],
      "text/plain": [
       "         Recency  Frequency  Monetary  R_Quintile  F_Quintile  M_Quintile  \\\n",
       "user_id                                                                     \n",
       "27462         26          1      10.6           1           1           2   \n",
       "39238          5          2      35.0           4           3           5   \n",
       "41354          4          4      29.0           4           5           4   \n",
       "44068         15          1      19.5           2           1           4   \n",
       "49220         28          1       5.3           1           1           1   \n",
       "\n",
       "        RFM_Score  Total_score  \n",
       "user_id                         \n",
       "27462         112            4  \n",
       "39238         435           12  \n",
       "41354         454           13  \n",
       "44068         214            7  \n",
       "49220         111            3  "
      ]
     },
     "execution_count": 1114,
     "metadata": {},
     "output_type": "execute_result"
    }
   ],
   "source": [
    "rfm_segmentation['Total_score'] = rfm_segmentation['R_Quintile'] + rfm_segmentation['F_Quintile'] + rfm_segmentation['M_Quintile']\n",
    "rfm_segmentation.head()"
   ]
  },
  {
   "cell_type": "markdown",
   "metadata": {},
   "source": [
    "Score Explanation:\n",
    "- Best Recency score = 5 : User with the most recent purchase\n",
    "- Best Frequency score = 5 : User with most quantities purchased\n",
    "- Best Monetary score = 5 : User who spent the most amount of money\n",
    "- Least Recency score = 1 : User with the least recent purchase\n",
    "- Least Frequency score = 1 : User with least quantities purchased\n",
    "- Least Monetary score = 1 : User who spent the least amount of money\n",
    "\n",
    "Therefore, the user with best/highest score  will be represented with '555'  in the RFM_Score column while the user with the worst/lowest score will be represented with '111' score in the RFM_score column\n",
    "    "
   ]
  },
  {
   "cell_type": "markdown",
   "metadata": {},
   "source": [
    "# 4. RFM segmentation to answer business questions"
   ]
  },
  {
   "cell_type": "markdown",
   "metadata": {},
   "source": [
    "Following the RFM analysis, we are now able to answer some critical answers for the business. Some of these can be found below:"
   ]
  },
  {
   "cell_type": "markdown",
   "metadata": {},
   "source": [
    "### Who are the best customers for the business?"
   ]
  },
  {
   "cell_type": "code",
   "execution_count": 1115,
   "metadata": {},
   "outputs": [
    {
     "data": {
      "text/html": [
       "<div>\n",
       "<style scoped>\n",
       "    .dataframe tbody tr th:only-of-type {\n",
       "        vertical-align: middle;\n",
       "    }\n",
       "\n",
       "    .dataframe tbody tr th {\n",
       "        vertical-align: top;\n",
       "    }\n",
       "\n",
       "    .dataframe thead th {\n",
       "        text-align: right;\n",
       "    }\n",
       "</style>\n",
       "<table border=\"1\" class=\"dataframe\">\n",
       "  <thead>\n",
       "    <tr style=\"text-align: right;\">\n",
       "      <th></th>\n",
       "      <th>Recency</th>\n",
       "      <th>Frequency</th>\n",
       "      <th>Monetary</th>\n",
       "      <th>R_Quintile</th>\n",
       "      <th>F_Quintile</th>\n",
       "      <th>M_Quintile</th>\n",
       "      <th>RFM_Score</th>\n",
       "      <th>Total_score</th>\n",
       "    </tr>\n",
       "    <tr>\n",
       "      <th>user_id</th>\n",
       "      <th></th>\n",
       "      <th></th>\n",
       "      <th></th>\n",
       "      <th></th>\n",
       "      <th></th>\n",
       "      <th></th>\n",
       "      <th></th>\n",
       "      <th></th>\n",
       "    </tr>\n",
       "  </thead>\n",
       "  <tbody>\n",
       "    <tr>\n",
       "      <th>139150</th>\n",
       "      <td>1</td>\n",
       "      <td>4</td>\n",
       "      <td>31.8</td>\n",
       "      <td>5</td>\n",
       "      <td>5</td>\n",
       "      <td>5</td>\n",
       "      <td>555</td>\n",
       "      <td>15</td>\n",
       "    </tr>\n",
       "    <tr>\n",
       "      <th>153962</th>\n",
       "      <td>2</td>\n",
       "      <td>7</td>\n",
       "      <td>47.1</td>\n",
       "      <td>5</td>\n",
       "      <td>5</td>\n",
       "      <td>5</td>\n",
       "      <td>555</td>\n",
       "      <td>15</td>\n",
       "    </tr>\n",
       "    <tr>\n",
       "      <th>168498</th>\n",
       "      <td>3</td>\n",
       "      <td>8</td>\n",
       "      <td>100.1</td>\n",
       "      <td>5</td>\n",
       "      <td>5</td>\n",
       "      <td>5</td>\n",
       "      <td>555</td>\n",
       "      <td>15</td>\n",
       "    </tr>\n",
       "    <tr>\n",
       "      <th>170016</th>\n",
       "      <td>1</td>\n",
       "      <td>7</td>\n",
       "      <td>63.4</td>\n",
       "      <td>5</td>\n",
       "      <td>5</td>\n",
       "      <td>5</td>\n",
       "      <td>555</td>\n",
       "      <td>15</td>\n",
       "    </tr>\n",
       "    <tr>\n",
       "      <th>192832</th>\n",
       "      <td>2</td>\n",
       "      <td>9</td>\n",
       "      <td>71.0</td>\n",
       "      <td>5</td>\n",
       "      <td>5</td>\n",
       "      <td>5</td>\n",
       "      <td>555</td>\n",
       "      <td>15</td>\n",
       "    </tr>\n",
       "  </tbody>\n",
       "</table>\n",
       "</div>"
      ],
      "text/plain": [
       "         Recency  Frequency  Monetary  R_Quintile  F_Quintile  M_Quintile  \\\n",
       "user_id                                                                     \n",
       "139150         1          4      31.8           5           5           5   \n",
       "153962         2          7      47.1           5           5           5   \n",
       "168498         3          8     100.1           5           5           5   \n",
       "170016         1          7      63.4           5           5           5   \n",
       "192832         2          9      71.0           5           5           5   \n",
       "\n",
       "        RFM_Score  Total_score  \n",
       "user_id                         \n",
       "139150        555           15  \n",
       "153962        555           15  \n",
       "168498        555           15  \n",
       "170016        555           15  \n",
       "192832        555           15  "
      ]
     },
     "execution_count": 1115,
     "metadata": {},
     "output_type": "execute_result"
    }
   ],
   "source": [
    "#customers who got a score of 5 in every metric\n",
    "rfm_segmentation[rfm_segmentation['RFM_Score']=='555'].head()"
   ]
  },
  {
   "cell_type": "markdown",
   "metadata": {},
   "source": [
    "### Which customers are at the verge of churning?"
   ]
  },
  {
   "cell_type": "code",
   "execution_count": 1116,
   "metadata": {},
   "outputs": [
    {
     "data": {
      "text/html": [
       "<div>\n",
       "<style scoped>\n",
       "    .dataframe tbody tr th:only-of-type {\n",
       "        vertical-align: middle;\n",
       "    }\n",
       "\n",
       "    .dataframe tbody tr th {\n",
       "        vertical-align: top;\n",
       "    }\n",
       "\n",
       "    .dataframe thead th {\n",
       "        text-align: right;\n",
       "    }\n",
       "</style>\n",
       "<table border=\"1\" class=\"dataframe\">\n",
       "  <thead>\n",
       "    <tr style=\"text-align: right;\">\n",
       "      <th></th>\n",
       "      <th>Recency</th>\n",
       "      <th>Frequency</th>\n",
       "      <th>Monetary</th>\n",
       "      <th>R_Quintile</th>\n",
       "      <th>F_Quintile</th>\n",
       "      <th>M_Quintile</th>\n",
       "      <th>RFM_Score</th>\n",
       "      <th>Total_score</th>\n",
       "    </tr>\n",
       "    <tr>\n",
       "      <th>user_id</th>\n",
       "      <th></th>\n",
       "      <th></th>\n",
       "      <th></th>\n",
       "      <th></th>\n",
       "      <th></th>\n",
       "      <th></th>\n",
       "      <th></th>\n",
       "      <th></th>\n",
       "    </tr>\n",
       "  </thead>\n",
       "  <tbody>\n",
       "    <tr>\n",
       "      <th>27462</th>\n",
       "      <td>26</td>\n",
       "      <td>1</td>\n",
       "      <td>10.6</td>\n",
       "      <td>1</td>\n",
       "      <td>1</td>\n",
       "      <td>2</td>\n",
       "      <td>112</td>\n",
       "      <td>4</td>\n",
       "    </tr>\n",
       "    <tr>\n",
       "      <th>44068</th>\n",
       "      <td>15</td>\n",
       "      <td>1</td>\n",
       "      <td>19.5</td>\n",
       "      <td>2</td>\n",
       "      <td>1</td>\n",
       "      <td>4</td>\n",
       "      <td>214</td>\n",
       "      <td>7</td>\n",
       "    </tr>\n",
       "    <tr>\n",
       "      <th>49220</th>\n",
       "      <td>28</td>\n",
       "      <td>1</td>\n",
       "      <td>5.3</td>\n",
       "      <td>1</td>\n",
       "      <td>1</td>\n",
       "      <td>1</td>\n",
       "      <td>111</td>\n",
       "      <td>3</td>\n",
       "    </tr>\n",
       "    <tr>\n",
       "      <th>51842</th>\n",
       "      <td>16</td>\n",
       "      <td>1</td>\n",
       "      <td>20.2</td>\n",
       "      <td>2</td>\n",
       "      <td>1</td>\n",
       "      <td>4</td>\n",
       "      <td>214</td>\n",
       "      <td>7</td>\n",
       "    </tr>\n",
       "    <tr>\n",
       "      <th>55062</th>\n",
       "      <td>21</td>\n",
       "      <td>2</td>\n",
       "      <td>29.3</td>\n",
       "      <td>2</td>\n",
       "      <td>3</td>\n",
       "      <td>4</td>\n",
       "      <td>234</td>\n",
       "      <td>9</td>\n",
       "    </tr>\n",
       "  </tbody>\n",
       "</table>\n",
       "</div>"
      ],
      "text/plain": [
       "         Recency  Frequency  Monetary  R_Quintile  F_Quintile  M_Quintile  \\\n",
       "user_id                                                                     \n",
       "27462         26          1      10.6           1           1           2   \n",
       "44068         15          1      19.5           2           1           4   \n",
       "49220         28          1       5.3           1           1           1   \n",
       "51842         16          1      20.2           2           1           4   \n",
       "55062         21          2      29.3           2           3           4   \n",
       "\n",
       "        RFM_Score  Total_score  \n",
       "user_id                         \n",
       "27462         112            4  \n",
       "44068         214            7  \n",
       "49220         111            3  \n",
       "51842         214            7  \n",
       "55062         234            9  "
      ]
     },
     "execution_count": 1116,
     "metadata": {},
     "output_type": "execute_result"
    }
   ],
   "source": [
    "# Customers with low recency value\n",
    "rfm_segmentation[rfm_segmentation['R_Quintile'] <=2].head()"
   ]
  },
  {
   "cell_type": "markdown",
   "metadata": {},
   "source": [
    "### Who are the lost customers?"
   ]
  },
  {
   "cell_type": "code",
   "execution_count": 1117,
   "metadata": {},
   "outputs": [
    {
     "data": {
      "text/html": [
       "<div>\n",
       "<style scoped>\n",
       "    .dataframe tbody tr th:only-of-type {\n",
       "        vertical-align: middle;\n",
       "    }\n",
       "\n",
       "    .dataframe tbody tr th {\n",
       "        vertical-align: top;\n",
       "    }\n",
       "\n",
       "    .dataframe thead th {\n",
       "        text-align: right;\n",
       "    }\n",
       "</style>\n",
       "<table border=\"1\" class=\"dataframe\">\n",
       "  <thead>\n",
       "    <tr style=\"text-align: right;\">\n",
       "      <th></th>\n",
       "      <th>Recency</th>\n",
       "      <th>Frequency</th>\n",
       "      <th>Monetary</th>\n",
       "      <th>R_Quintile</th>\n",
       "      <th>F_Quintile</th>\n",
       "      <th>M_Quintile</th>\n",
       "      <th>RFM_Score</th>\n",
       "      <th>Total_score</th>\n",
       "    </tr>\n",
       "    <tr>\n",
       "      <th>user_id</th>\n",
       "      <th></th>\n",
       "      <th></th>\n",
       "      <th></th>\n",
       "      <th></th>\n",
       "      <th></th>\n",
       "      <th></th>\n",
       "      <th></th>\n",
       "      <th></th>\n",
       "    </tr>\n",
       "  </thead>\n",
       "  <tbody>\n",
       "    <tr>\n",
       "      <th>49220</th>\n",
       "      <td>28</td>\n",
       "      <td>1</td>\n",
       "      <td>5.3</td>\n",
       "      <td>1</td>\n",
       "      <td>1</td>\n",
       "      <td>1</td>\n",
       "      <td>111</td>\n",
       "      <td>3</td>\n",
       "    </tr>\n",
       "    <tr>\n",
       "      <th>112884</th>\n",
       "      <td>24</td>\n",
       "      <td>1</td>\n",
       "      <td>7.0</td>\n",
       "      <td>1</td>\n",
       "      <td>1</td>\n",
       "      <td>1</td>\n",
       "      <td>111</td>\n",
       "      <td>3</td>\n",
       "    </tr>\n",
       "    <tr>\n",
       "      <th>122038</th>\n",
       "      <td>25</td>\n",
       "      <td>1</td>\n",
       "      <td>6.8</td>\n",
       "      <td>1</td>\n",
       "      <td>1</td>\n",
       "      <td>1</td>\n",
       "      <td>111</td>\n",
       "      <td>3</td>\n",
       "    </tr>\n",
       "    <tr>\n",
       "      <th>224158</th>\n",
       "      <td>28</td>\n",
       "      <td>1</td>\n",
       "      <td>2.0</td>\n",
       "      <td>1</td>\n",
       "      <td>1</td>\n",
       "      <td>1</td>\n",
       "      <td>111</td>\n",
       "      <td>3</td>\n",
       "    </tr>\n",
       "    <tr>\n",
       "      <th>268364</th>\n",
       "      <td>27</td>\n",
       "      <td>1</td>\n",
       "      <td>1.7</td>\n",
       "      <td>1</td>\n",
       "      <td>1</td>\n",
       "      <td>1</td>\n",
       "      <td>111</td>\n",
       "      <td>3</td>\n",
       "    </tr>\n",
       "  </tbody>\n",
       "</table>\n",
       "</div>"
      ],
      "text/plain": [
       "         Recency  Frequency  Monetary  R_Quintile  F_Quintile  M_Quintile  \\\n",
       "user_id                                                                     \n",
       "49220         28          1       5.3           1           1           1   \n",
       "112884        24          1       7.0           1           1           1   \n",
       "122038        25          1       6.8           1           1           1   \n",
       "224158        28          1       2.0           1           1           1   \n",
       "268364        27          1       1.7           1           1           1   \n",
       "\n",
       "        RFM_Score  Total_score  \n",
       "user_id                         \n",
       "49220         111            3  \n",
       "112884        111            3  \n",
       "122038        111            3  \n",
       "224158        111            3  \n",
       "268364        111            3  "
      ]
     },
     "execution_count": 1117,
     "metadata": {},
     "output_type": "execute_result"
    }
   ],
   "source": [
    "# Customers with low Recency, Frequency and Monetary values\n",
    "rfm_segmentation[rfm_segmentation['RFM_Score']=='111'].head()"
   ]
  },
  {
   "cell_type": "markdown",
   "metadata": {},
   "source": [
    "### Who are the loyal customers?"
   ]
  },
  {
   "cell_type": "code",
   "execution_count": 1118,
   "metadata": {},
   "outputs": [
    {
     "data": {
      "text/html": [
       "<div>\n",
       "<style scoped>\n",
       "    .dataframe tbody tr th:only-of-type {\n",
       "        vertical-align: middle;\n",
       "    }\n",
       "\n",
       "    .dataframe tbody tr th {\n",
       "        vertical-align: top;\n",
       "    }\n",
       "\n",
       "    .dataframe thead th {\n",
       "        text-align: right;\n",
       "    }\n",
       "</style>\n",
       "<table border=\"1\" class=\"dataframe\">\n",
       "  <thead>\n",
       "    <tr style=\"text-align: right;\">\n",
       "      <th></th>\n",
       "      <th>Recency</th>\n",
       "      <th>Frequency</th>\n",
       "      <th>Monetary</th>\n",
       "      <th>R_Quintile</th>\n",
       "      <th>F_Quintile</th>\n",
       "      <th>M_Quintile</th>\n",
       "      <th>RFM_Score</th>\n",
       "      <th>Total_score</th>\n",
       "    </tr>\n",
       "    <tr>\n",
       "      <th>user_id</th>\n",
       "      <th></th>\n",
       "      <th></th>\n",
       "      <th></th>\n",
       "      <th></th>\n",
       "      <th></th>\n",
       "      <th></th>\n",
       "      <th></th>\n",
       "      <th></th>\n",
       "    </tr>\n",
       "  </thead>\n",
       "  <tbody>\n",
       "    <tr>\n",
       "      <th>41354</th>\n",
       "      <td>4</td>\n",
       "      <td>4</td>\n",
       "      <td>29.0</td>\n",
       "      <td>4</td>\n",
       "      <td>5</td>\n",
       "      <td>4</td>\n",
       "      <td>454</td>\n",
       "      <td>13</td>\n",
       "    </tr>\n",
       "    <tr>\n",
       "      <th>52532</th>\n",
       "      <td>10</td>\n",
       "      <td>8</td>\n",
       "      <td>74.1</td>\n",
       "      <td>3</td>\n",
       "      <td>5</td>\n",
       "      <td>5</td>\n",
       "      <td>355</td>\n",
       "      <td>13</td>\n",
       "    </tr>\n",
       "    <tr>\n",
       "      <th>64538</th>\n",
       "      <td>2</td>\n",
       "      <td>4</td>\n",
       "      <td>27.1</td>\n",
       "      <td>5</td>\n",
       "      <td>5</td>\n",
       "      <td>4</td>\n",
       "      <td>554</td>\n",
       "      <td>14</td>\n",
       "    </tr>\n",
       "    <tr>\n",
       "      <th>97244</th>\n",
       "      <td>9</td>\n",
       "      <td>5</td>\n",
       "      <td>18.0</td>\n",
       "      <td>3</td>\n",
       "      <td>5</td>\n",
       "      <td>3</td>\n",
       "      <td>353</td>\n",
       "      <td>11</td>\n",
       "    </tr>\n",
       "    <tr>\n",
       "      <th>135792</th>\n",
       "      <td>11</td>\n",
       "      <td>4</td>\n",
       "      <td>48.3</td>\n",
       "      <td>3</td>\n",
       "      <td>5</td>\n",
       "      <td>5</td>\n",
       "      <td>355</td>\n",
       "      <td>13</td>\n",
       "    </tr>\n",
       "  </tbody>\n",
       "</table>\n",
       "</div>"
      ],
      "text/plain": [
       "         Recency  Frequency  Monetary  R_Quintile  F_Quintile  M_Quintile  \\\n",
       "user_id                                                                     \n",
       "41354          4          4      29.0           4           5           4   \n",
       "52532         10          8      74.1           3           5           5   \n",
       "64538          2          4      27.1           5           5           4   \n",
       "97244          9          5      18.0           3           5           3   \n",
       "135792        11          4      48.3           3           5           5   \n",
       "\n",
       "        RFM_Score  Total_score  \n",
       "user_id                         \n",
       "41354         454           13  \n",
       "52532         355           13  \n",
       "64538         554           14  \n",
       "97244         353           11  \n",
       "135792        355           13  "
      ]
     },
     "execution_count": 1118,
     "metadata": {},
     "output_type": "execute_result"
    }
   ],
   "source": [
    "# Customers with high frequency value\n",
    "rfm_segmentation[rfm_segmentation['F_Quintile']==5].head()"
   ]
  },
  {
   "cell_type": "markdown",
   "metadata": {},
   "source": [
    "### Which customers are spending the most ?"
   ]
  },
  {
   "cell_type": "code",
   "execution_count": 1119,
   "metadata": {},
   "outputs": [
    {
     "data": {
      "text/html": [
       "<div>\n",
       "<style scoped>\n",
       "    .dataframe tbody tr th:only-of-type {\n",
       "        vertical-align: middle;\n",
       "    }\n",
       "\n",
       "    .dataframe tbody tr th {\n",
       "        vertical-align: top;\n",
       "    }\n",
       "\n",
       "    .dataframe thead th {\n",
       "        text-align: right;\n",
       "    }\n",
       "</style>\n",
       "<table border=\"1\" class=\"dataframe\">\n",
       "  <thead>\n",
       "    <tr style=\"text-align: right;\">\n",
       "      <th></th>\n",
       "      <th>Recency</th>\n",
       "      <th>Frequency</th>\n",
       "      <th>Monetary</th>\n",
       "      <th>R_Quintile</th>\n",
       "      <th>F_Quintile</th>\n",
       "      <th>M_Quintile</th>\n",
       "      <th>RFM_Score</th>\n",
       "      <th>Total_score</th>\n",
       "    </tr>\n",
       "    <tr>\n",
       "      <th>user_id</th>\n",
       "      <th></th>\n",
       "      <th></th>\n",
       "      <th></th>\n",
       "      <th></th>\n",
       "      <th></th>\n",
       "      <th></th>\n",
       "      <th></th>\n",
       "      <th></th>\n",
       "    </tr>\n",
       "  </thead>\n",
       "  <tbody>\n",
       "    <tr>\n",
       "      <th>39238</th>\n",
       "      <td>5</td>\n",
       "      <td>2</td>\n",
       "      <td>35.0</td>\n",
       "      <td>4</td>\n",
       "      <td>3</td>\n",
       "      <td>5</td>\n",
       "      <td>435</td>\n",
       "      <td>12</td>\n",
       "    </tr>\n",
       "    <tr>\n",
       "      <th>52532</th>\n",
       "      <td>10</td>\n",
       "      <td>8</td>\n",
       "      <td>74.1</td>\n",
       "      <td>3</td>\n",
       "      <td>5</td>\n",
       "      <td>5</td>\n",
       "      <td>355</td>\n",
       "      <td>13</td>\n",
       "    </tr>\n",
       "    <tr>\n",
       "      <th>85008</th>\n",
       "      <td>3</td>\n",
       "      <td>1</td>\n",
       "      <td>53.1</td>\n",
       "      <td>5</td>\n",
       "      <td>1</td>\n",
       "      <td>5</td>\n",
       "      <td>515</td>\n",
       "      <td>11</td>\n",
       "    </tr>\n",
       "    <tr>\n",
       "      <th>101522</th>\n",
       "      <td>4</td>\n",
       "      <td>1</td>\n",
       "      <td>34.1</td>\n",
       "      <td>4</td>\n",
       "      <td>1</td>\n",
       "      <td>5</td>\n",
       "      <td>415</td>\n",
       "      <td>10</td>\n",
       "    </tr>\n",
       "    <tr>\n",
       "      <th>113528</th>\n",
       "      <td>13</td>\n",
       "      <td>2</td>\n",
       "      <td>33.2</td>\n",
       "      <td>2</td>\n",
       "      <td>3</td>\n",
       "      <td>5</td>\n",
       "      <td>235</td>\n",
       "      <td>10</td>\n",
       "    </tr>\n",
       "  </tbody>\n",
       "</table>\n",
       "</div>"
      ],
      "text/plain": [
       "         Recency  Frequency  Monetary  R_Quintile  F_Quintile  M_Quintile  \\\n",
       "user_id                                                                     \n",
       "39238          5          2      35.0           4           3           5   \n",
       "52532         10          8      74.1           3           5           5   \n",
       "85008          3          1      53.1           5           1           5   \n",
       "101522         4          1      34.1           4           1           5   \n",
       "113528        13          2      33.2           2           3           5   \n",
       "\n",
       "        RFM_Score  Total_score  \n",
       "user_id                         \n",
       "39238         435           12  \n",
       "52532         355           13  \n",
       "85008         515           11  \n",
       "101522        415           10  \n",
       "113528        235           10  "
      ]
     },
     "execution_count": 1119,
     "metadata": {},
     "output_type": "execute_result"
    }
   ],
   "source": [
    "## Customers with high monetary value\n",
    "rfm_segmentation[rfm_segmentation['M_Quintile']==5].head()"
   ]
  },
  {
   "cell_type": "markdown",
   "metadata": {},
   "source": [
    "Below can be found the total amount of users that fall into the five critical business questions above:"
   ]
  },
  {
   "cell_type": "code",
   "execution_count": 1120,
   "metadata": {},
   "outputs": [
    {
     "name": "stdout",
     "output_type": "stream",
     "text": [
      "Best Customers:  10895\n",
      "Churning Customers:  64676\n",
      "Lost Customers:  9211\n",
      "Loyal Customers:  31952\n",
      "Big Spenders:  32536\n"
     ]
    }
   ],
   "source": [
    "print(\"Best Customers: \",len(rfm_segmentation[rfm_segmentation['RFM_Score']=='555']))\n",
    "print(\"Churning Customers: \",len(rfm_segmentation[rfm_segmentation['R_Quintile']<=2]))\n",
    "print('Lost Customers: ',len(rfm_segmentation[rfm_segmentation['RFM_Score']=='111']))\n",
    "print('Loyal Customers: ',len(rfm_segmentation[rfm_segmentation['F_Quintile']==5]))\n",
    "print(\"Big Spenders: \",len(rfm_segmentation[rfm_segmentation['M_Quintile']==5]))"
   ]
  },
  {
   "cell_type": "markdown",
   "metadata": {},
   "source": [
    "# 5. Creating customer segments based on the total score of the RFM analysis"
   ]
  },
  {
   "cell_type": "markdown",
   "metadata": {},
   "source": [
    "Taking advantage of the total score column, we could create more segments based on common segment names. There are various examples that are widely used in e-commerce. Some examples and explanations could be found here: https://www.putler.com/rfm-analysis/\n",
    "\n",
    "It has to be highlighted that the name and levels of segments could be altered according to business needs and requirements. "
   ]
  },
  {
   "cell_type": "code",
   "execution_count": 1121,
   "metadata": {},
   "outputs": [],
   "source": [
    "# Define rfm_segment function\n",
    "def rfm_segments(df):\n",
    "    if df['Total_score'] >= 13:\n",
    "        return 'Champions'\n",
    "    elif ((df['Total_score'] >= 10) and (df['Total_score'] < 13)):\n",
    "        return 'Cannot Lose them'\n",
    "    elif ((df['Total_score'] >= 8) and (df['Total_score'] < 10)):\n",
    "        return 'Potential Loyalist'\n",
    "    elif ((df['Total_score'] >= 7) and (df['Total_score'] < 8)):\n",
    "        return 'Promising'\n",
    "    elif ((df['Total_score'] >= 5) and (df['Total_score'] < 7)):\n",
    "        return 'About to sleep'\n",
    "    elif ((df['Total_score'] >= 4) and (df['Total_score'] < 5)):\n",
    "        return 'Needs Attention'\n",
    "    else:\n",
    "        return 'Require Activation'"
   ]
  },
  {
   "cell_type": "code",
   "execution_count": 1122,
   "metadata": {},
   "outputs": [
    {
     "data": {
      "text/html": [
       "<div>\n",
       "<style scoped>\n",
       "    .dataframe tbody tr th:only-of-type {\n",
       "        vertical-align: middle;\n",
       "    }\n",
       "\n",
       "    .dataframe tbody tr th {\n",
       "        vertical-align: top;\n",
       "    }\n",
       "\n",
       "    .dataframe thead th {\n",
       "        text-align: right;\n",
       "    }\n",
       "</style>\n",
       "<table border=\"1\" class=\"dataframe\">\n",
       "  <thead>\n",
       "    <tr style=\"text-align: right;\">\n",
       "      <th></th>\n",
       "      <th>Recency</th>\n",
       "      <th>Frequency</th>\n",
       "      <th>Monetary</th>\n",
       "      <th>R_Quintile</th>\n",
       "      <th>F_Quintile</th>\n",
       "      <th>M_Quintile</th>\n",
       "      <th>RFM_Score</th>\n",
       "      <th>Total_score</th>\n",
       "      <th>RFM_segments</th>\n",
       "    </tr>\n",
       "    <tr>\n",
       "      <th>user_id</th>\n",
       "      <th></th>\n",
       "      <th></th>\n",
       "      <th></th>\n",
       "      <th></th>\n",
       "      <th></th>\n",
       "      <th></th>\n",
       "      <th></th>\n",
       "      <th></th>\n",
       "      <th></th>\n",
       "    </tr>\n",
       "  </thead>\n",
       "  <tbody>\n",
       "    <tr>\n",
       "      <th>27462</th>\n",
       "      <td>26</td>\n",
       "      <td>1</td>\n",
       "      <td>10.6</td>\n",
       "      <td>1</td>\n",
       "      <td>1</td>\n",
       "      <td>2</td>\n",
       "      <td>112</td>\n",
       "      <td>4</td>\n",
       "      <td>Needs Attention</td>\n",
       "    </tr>\n",
       "    <tr>\n",
       "      <th>39238</th>\n",
       "      <td>5</td>\n",
       "      <td>2</td>\n",
       "      <td>35.0</td>\n",
       "      <td>4</td>\n",
       "      <td>3</td>\n",
       "      <td>5</td>\n",
       "      <td>435</td>\n",
       "      <td>12</td>\n",
       "      <td>Cannot Lose them</td>\n",
       "    </tr>\n",
       "    <tr>\n",
       "      <th>41354</th>\n",
       "      <td>4</td>\n",
       "      <td>4</td>\n",
       "      <td>29.0</td>\n",
       "      <td>4</td>\n",
       "      <td>5</td>\n",
       "      <td>4</td>\n",
       "      <td>454</td>\n",
       "      <td>13</td>\n",
       "      <td>Champions</td>\n",
       "    </tr>\n",
       "    <tr>\n",
       "      <th>44068</th>\n",
       "      <td>15</td>\n",
       "      <td>1</td>\n",
       "      <td>19.5</td>\n",
       "      <td>2</td>\n",
       "      <td>1</td>\n",
       "      <td>4</td>\n",
       "      <td>214</td>\n",
       "      <td>7</td>\n",
       "      <td>Promising</td>\n",
       "    </tr>\n",
       "    <tr>\n",
       "      <th>49220</th>\n",
       "      <td>28</td>\n",
       "      <td>1</td>\n",
       "      <td>5.3</td>\n",
       "      <td>1</td>\n",
       "      <td>1</td>\n",
       "      <td>1</td>\n",
       "      <td>111</td>\n",
       "      <td>3</td>\n",
       "      <td>Require Activation</td>\n",
       "    </tr>\n",
       "  </tbody>\n",
       "</table>\n",
       "</div>"
      ],
      "text/plain": [
       "         Recency  Frequency  Monetary  R_Quintile  F_Quintile  M_Quintile  \\\n",
       "user_id                                                                     \n",
       "27462         26          1      10.6           1           1           2   \n",
       "39238          5          2      35.0           4           3           5   \n",
       "41354          4          4      29.0           4           5           4   \n",
       "44068         15          1      19.5           2           1           4   \n",
       "49220         28          1       5.3           1           1           1   \n",
       "\n",
       "        RFM_Score  Total_score        RFM_segments  \n",
       "user_id                                             \n",
       "27462         112            4     Needs Attention  \n",
       "39238         435           12    Cannot Lose them  \n",
       "41354         454           13           Champions  \n",
       "44068         214            7           Promising  \n",
       "49220         111            3  Require Activation  "
      ]
     },
     "execution_count": 1122,
     "metadata": {},
     "output_type": "execute_result"
    }
   ],
   "source": [
    "rfm_segmentation['RFM_segments'] =  rfm_segmentation.apply(rfm_segments, axis=1)\n",
    "rfm_segmentation.head()"
   ]
  },
  {
   "cell_type": "code",
   "execution_count": 1123,
   "metadata": {
    "scrolled": false
   },
   "outputs": [
    {
     "data": {
      "image/png": "[encoded data removed]",
      "text/plain": [
       "<Figure size 432x288 with 1 Axes>"
      ]
     },
     "metadata": {
      "needs_background": "light"
     },
     "output_type": "display_data"
    }
   ],
   "source": [
    "rfm_segmentation['RFM_segments'].value_counts().plot(kind='bar')\n",
    "plt.xticks(rotation=45)\n",
    "plt.ylabel('Count of users')\n",
    "plt.title('Amount of Users per Segment');"
   ]
  },
  {
   "cell_type": "code",
   "execution_count": 1124,
   "metadata": {},
   "outputs": [
    {
     "data": {
      "text/plain": [
       "Cannot Lose them      33486\n",
       "About to sleep        32634\n",
       "Champions             32456\n",
       "Potential Loyalist    24824\n",
       "Needs Attention       15244\n",
       "Promising             15099\n",
       "Require Activation     9211\n",
       "Name: RFM_segments, dtype: int64"
      ]
     },
     "execution_count": 1124,
     "metadata": {},
     "output_type": "execute_result"
    }
   ],
   "source": [
    "rfm_segmentation.RFM_segments.value_counts()"
   ]
  },
  {
   "cell_type": "code",
   "execution_count": 1125,
   "metadata": {},
   "outputs": [
    {
     "data": {
      "text/plain": [
       "Cannot Lose them      20.549357\n",
       "About to sleep        20.026511\n",
       "Champions             19.917277\n",
       "Potential Loyalist    15.233747\n",
       "Needs Attention        9.354787\n",
       "Promising              9.265805\n",
       "Require Activation     5.652515\n",
       "Name: RFM_segments, dtype: float64"
      ]
     },
     "execution_count": 1125,
     "metadata": {},
     "output_type": "execute_result"
    }
   ],
   "source": [
    "rfm_segmentation.RFM_segments.value_counts(normalize=True)*100"
   ]
  },
  {
   "cell_type": "code",
   "execution_count": 1126,
   "metadata": {},
   "outputs": [],
   "source": [
    "# Calculate average values for each RFM_segment, and return a size of each segment \n",
    "rfm_segment_values = rfm_segmentation.groupby('RFM_segments').agg({'Recency': 'mean','Frequency': 'mean', 'Monetary': ['mean', 'count']}).round(1)\n",
    "rfm_segment_values.columns = rfm_segment_values.columns.droplevel()\n",
    "rfm_segment_values.columns = ['RecencyMean','FrequencyMean','MonetaryMean', 'Count']\n",
    "rfm_segment_values['Percentage'] = ((rfm_segment_values['Count']/rfm_segment_values.Count.sum()).round(4)*100).astype(str) + '%'"
   ]
  },
  {
   "cell_type": "code",
   "execution_count": 1127,
   "metadata": {},
   "outputs": [
    {
     "data": {
      "text/html": [
       "<div>\n",
       "<style scoped>\n",
       "    .dataframe tbody tr th:only-of-type {\n",
       "        vertical-align: middle;\n",
       "    }\n",
       "\n",
       "    .dataframe tbody tr th {\n",
       "        vertical-align: top;\n",
       "    }\n",
       "\n",
       "    .dataframe thead th {\n",
       "        text-align: right;\n",
       "    }\n",
       "</style>\n",
       "<table border=\"1\" class=\"dataframe\">\n",
       "  <thead>\n",
       "    <tr style=\"text-align: right;\">\n",
       "      <th></th>\n",
       "      <th>RecencyMean</th>\n",
       "      <th>FrequencyMean</th>\n",
       "      <th>MonetaryMean</th>\n",
       "      <th>Count</th>\n",
       "      <th>Percentage</th>\n",
       "    </tr>\n",
       "    <tr>\n",
       "      <th>RFM_segments</th>\n",
       "      <th></th>\n",
       "      <th></th>\n",
       "      <th></th>\n",
       "      <th></th>\n",
       "      <th></th>\n",
       "    </tr>\n",
       "  </thead>\n",
       "  <tbody>\n",
       "    <tr>\n",
       "      <th>About to sleep</th>\n",
       "      <td>16.2</td>\n",
       "      <td>1.1</td>\n",
       "      <td>10.8</td>\n",
       "      <td>32634</td>\n",
       "      <td>20.03%</td>\n",
       "    </tr>\n",
       "    <tr>\n",
       "      <th>Cannot Lose them</th>\n",
       "      <td>7.6</td>\n",
       "      <td>2.8</td>\n",
       "      <td>25.0</td>\n",
       "      <td>33486</td>\n",
       "      <td>20.549999999999997%</td>\n",
       "    </tr>\n",
       "    <tr>\n",
       "      <th>Champions</th>\n",
       "      <td>3.6</td>\n",
       "      <td>5.8</td>\n",
       "      <td>47.6</td>\n",
       "      <td>32456</td>\n",
       "      <td>19.919999999999998%</td>\n",
       "    </tr>\n",
       "    <tr>\n",
       "      <th>Needs Attention</th>\n",
       "      <td>21.5</td>\n",
       "      <td>1.0</td>\n",
       "      <td>7.1</td>\n",
       "      <td>15244</td>\n",
       "      <td>9.35%</td>\n",
       "    </tr>\n",
       "    <tr>\n",
       "      <th>Potential Loyalist</th>\n",
       "      <td>10.4</td>\n",
       "      <td>1.7</td>\n",
       "      <td>16.6</td>\n",
       "      <td>24824</td>\n",
       "      <td>15.229999999999999%</td>\n",
       "    </tr>\n",
       "    <tr>\n",
       "      <th>Promising</th>\n",
       "      <td>10.7</td>\n",
       "      <td>1.3</td>\n",
       "      <td>12.4</td>\n",
       "      <td>15099</td>\n",
       "      <td>9.27%</td>\n",
       "    </tr>\n",
       "    <tr>\n",
       "      <th>Require Activation</th>\n",
       "      <td>26.4</td>\n",
       "      <td>1.0</td>\n",
       "      <td>4.9</td>\n",
       "      <td>9211</td>\n",
       "      <td>5.65%</td>\n",
       "    </tr>\n",
       "  </tbody>\n",
       "</table>\n",
       "</div>"
      ],
      "text/plain": [
       "                    RecencyMean  FrequencyMean  MonetaryMean  Count  \\\n",
       "RFM_segments                                                          \n",
       "About to sleep             16.2            1.1          10.8  32634   \n",
       "Cannot Lose them            7.6            2.8          25.0  33486   \n",
       "Champions                   3.6            5.8          47.6  32456   \n",
       "Needs Attention            21.5            1.0           7.1  15244   \n",
       "Potential Loyalist         10.4            1.7          16.6  24824   \n",
       "Promising                  10.7            1.3          12.4  15099   \n",
       "Require Activation         26.4            1.0           4.9   9211   \n",
       "\n",
       "                             Percentage  \n",
       "RFM_segments                             \n",
       "About to sleep                   20.03%  \n",
       "Cannot Lose them    20.549999999999997%  \n",
       "Champions           19.919999999999998%  \n",
       "Needs Attention                   9.35%  \n",
       "Potential Loyalist  15.229999999999999%  \n",
       "Promising                         9.27%  \n",
       "Require Activation                5.65%  "
      ]
     },
     "execution_count": 1127,
     "metadata": {},
     "output_type": "execute_result"
    }
   ],
   "source": [
    "rfm_segment_values"
   ]
  },
  {
   "cell_type": "code",
   "execution_count": 1128,
   "metadata": {},
   "outputs": [
    {
     "data": {
      "image/png": "[encoded data removed]",
      "text/plain": [
       "<Figure size 1152x648 with 1 Axes>"
      ]
     },
     "metadata": {
      "needs_background": "light"
     },
     "output_type": "display_data"
    }
   ],
   "source": [
    "#Create our plot and resize it.\n",
    "fig = plt.gcf()\n",
    "ax = fig.add_subplot()\n",
    "fig.set_size_inches(16, 9)\n",
    "squarify.plot(sizes=rfm_segment_values['Count'], \n",
    "              label=rfm_segment_values.index, value=rfm_segment_values['Percentage'], alpha=.5 )\n",
    "plt.title(\"RFM Segments\",fontsize=18,fontweight=\"bold\")\n",
    "plt.axis('off')\n",
    "plt.show()"
   ]
  },
  {
   "cell_type": "markdown",
   "metadata": {},
   "source": [
    "# 6. Marketing campaign about Coffee and loyal customers"
   ]
  },
  {
   "cell_type": "code",
   "execution_count": 1129,
   "metadata": {},
   "outputs": [
    {
     "data": {
      "text/html": [
       "<div>\n",
       "<style scoped>\n",
       "    .dataframe tbody tr th:only-of-type {\n",
       "        vertical-align: middle;\n",
       "    }\n",
       "\n",
       "    .dataframe tbody tr th {\n",
       "        vertical-align: top;\n",
       "    }\n",
       "\n",
       "    .dataframe thead th {\n",
       "        text-align: right;\n",
       "    }\n",
       "</style>\n",
       "<table border=\"1\" class=\"dataframe\">\n",
       "  <thead>\n",
       "    <tr style=\"text-align: right;\">\n",
       "      <th></th>\n",
       "      <th>Recency</th>\n",
       "      <th>Frequency</th>\n",
       "      <th>Monetary</th>\n",
       "      <th>R_Quintile</th>\n",
       "      <th>F_Quintile</th>\n",
       "      <th>M_Quintile</th>\n",
       "      <th>RFM_Score</th>\n",
       "      <th>Total_score</th>\n",
       "      <th>RFM_segments</th>\n",
       "    </tr>\n",
       "    <tr>\n",
       "      <th>user_id</th>\n",
       "      <th></th>\n",
       "      <th></th>\n",
       "      <th></th>\n",
       "      <th></th>\n",
       "      <th></th>\n",
       "      <th></th>\n",
       "      <th></th>\n",
       "      <th></th>\n",
       "      <th></th>\n",
       "    </tr>\n",
       "  </thead>\n",
       "  <tbody>\n",
       "    <tr>\n",
       "      <th>41354</th>\n",
       "      <td>4</td>\n",
       "      <td>4</td>\n",
       "      <td>29.00</td>\n",
       "      <td>4</td>\n",
       "      <td>5</td>\n",
       "      <td>4</td>\n",
       "      <td>454</td>\n",
       "      <td>13</td>\n",
       "      <td>Champions</td>\n",
       "    </tr>\n",
       "    <tr>\n",
       "      <th>52532</th>\n",
       "      <td>10</td>\n",
       "      <td>8</td>\n",
       "      <td>74.10</td>\n",
       "      <td>3</td>\n",
       "      <td>5</td>\n",
       "      <td>5</td>\n",
       "      <td>355</td>\n",
       "      <td>13</td>\n",
       "      <td>Champions</td>\n",
       "    </tr>\n",
       "    <tr>\n",
       "      <th>64538</th>\n",
       "      <td>2</td>\n",
       "      <td>4</td>\n",
       "      <td>27.10</td>\n",
       "      <td>5</td>\n",
       "      <td>5</td>\n",
       "      <td>4</td>\n",
       "      <td>554</td>\n",
       "      <td>14</td>\n",
       "      <td>Champions</td>\n",
       "    </tr>\n",
       "    <tr>\n",
       "      <th>97244</th>\n",
       "      <td>9</td>\n",
       "      <td>5</td>\n",
       "      <td>18.00</td>\n",
       "      <td>3</td>\n",
       "      <td>5</td>\n",
       "      <td>3</td>\n",
       "      <td>353</td>\n",
       "      <td>11</td>\n",
       "      <td>Cannot Lose them</td>\n",
       "    </tr>\n",
       "    <tr>\n",
       "      <th>135792</th>\n",
       "      <td>11</td>\n",
       "      <td>4</td>\n",
       "      <td>48.30</td>\n",
       "      <td>3</td>\n",
       "      <td>5</td>\n",
       "      <td>5</td>\n",
       "      <td>355</td>\n",
       "      <td>13</td>\n",
       "      <td>Champions</td>\n",
       "    </tr>\n",
       "    <tr>\n",
       "      <th>...</th>\n",
       "      <td>...</td>\n",
       "      <td>...</td>\n",
       "      <td>...</td>\n",
       "      <td>...</td>\n",
       "      <td>...</td>\n",
       "      <td>...</td>\n",
       "      <td>...</td>\n",
       "      <td>...</td>\n",
       "      <td>...</td>\n",
       "    </tr>\n",
       "    <tr>\n",
       "      <th>197483290</th>\n",
       "      <td>2</td>\n",
       "      <td>4</td>\n",
       "      <td>12.40</td>\n",
       "      <td>5</td>\n",
       "      <td>5</td>\n",
       "      <td>3</td>\n",
       "      <td>553</td>\n",
       "      <td>13</td>\n",
       "      <td>Champions</td>\n",
       "    </tr>\n",
       "    <tr>\n",
       "      <th>197492030</th>\n",
       "      <td>2</td>\n",
       "      <td>4</td>\n",
       "      <td>50.20</td>\n",
       "      <td>5</td>\n",
       "      <td>5</td>\n",
       "      <td>5</td>\n",
       "      <td>555</td>\n",
       "      <td>15</td>\n",
       "      <td>Champions</td>\n",
       "    </tr>\n",
       "    <tr>\n",
       "      <th>197497090</th>\n",
       "      <td>3</td>\n",
       "      <td>5</td>\n",
       "      <td>14.40</td>\n",
       "      <td>5</td>\n",
       "      <td>5</td>\n",
       "      <td>3</td>\n",
       "      <td>553</td>\n",
       "      <td>13</td>\n",
       "      <td>Champions</td>\n",
       "    </tr>\n",
       "    <tr>\n",
       "      <th>197589688</th>\n",
       "      <td>1</td>\n",
       "      <td>4</td>\n",
       "      <td>50.22</td>\n",
       "      <td>5</td>\n",
       "      <td>5</td>\n",
       "      <td>5</td>\n",
       "      <td>555</td>\n",
       "      <td>15</td>\n",
       "      <td>Champions</td>\n",
       "    </tr>\n",
       "    <tr>\n",
       "      <th>197796504</th>\n",
       "      <td>2</td>\n",
       "      <td>4</td>\n",
       "      <td>24.00</td>\n",
       "      <td>5</td>\n",
       "      <td>5</td>\n",
       "      <td>4</td>\n",
       "      <td>554</td>\n",
       "      <td>14</td>\n",
       "      <td>Champions</td>\n",
       "    </tr>\n",
       "  </tbody>\n",
       "</table>\n",
       "<p>31952 rows × 9 columns</p>\n",
       "</div>"
      ],
      "text/plain": [
       "           Recency  Frequency  Monetary  R_Quintile  F_Quintile  M_Quintile  \\\n",
       "user_id                                                                       \n",
       "41354            4          4     29.00           4           5           4   \n",
       "52532           10          8     74.10           3           5           5   \n",
       "64538            2          4     27.10           5           5           4   \n",
       "97244            9          5     18.00           3           5           3   \n",
       "135792          11          4     48.30           3           5           5   \n",
       "...            ...        ...       ...         ...         ...         ...   \n",
       "197483290        2          4     12.40           5           5           3   \n",
       "197492030        2          4     50.20           5           5           5   \n",
       "197497090        3          5     14.40           5           5           3   \n",
       "197589688        1          4     50.22           5           5           5   \n",
       "197796504        2          4     24.00           5           5           4   \n",
       "\n",
       "          RFM_Score  Total_score      RFM_segments  \n",
       "user_id                                             \n",
       "41354           454           13         Champions  \n",
       "52532           355           13         Champions  \n",
       "64538           554           14         Champions  \n",
       "97244           353           11  Cannot Lose them  \n",
       "135792          355           13         Champions  \n",
       "...             ...          ...               ...  \n",
       "197483290       553           13         Champions  \n",
       "197492030       555           15         Champions  \n",
       "197497090       553           13         Champions  \n",
       "197589688       555           15         Champions  \n",
       "197796504       554           14         Champions  \n",
       "\n",
       "[31952 rows x 9 columns]"
      ]
     },
     "execution_count": 1129,
     "metadata": {},
     "output_type": "execute_result"
    }
   ],
   "source": [
    "#Identify the loyal customers based on the Frequency Quintile of the RFM analysis\n",
    "loyal_customers = rfm_segmentation[rfm_segmentation['F_Quintile']==5]\n",
    "loyal_customers"
   ]
  },
  {
   "cell_type": "code",
   "execution_count": 1130,
   "metadata": {},
   "outputs": [],
   "source": [
    "# Match user_id of the royal dataframe with the users from the initial table (df)\n",
    "df_loyal = df[df['user_id'].isin(loyal_customers.index)]"
   ]
  },
  {
   "cell_type": "code",
   "execution_count": 1131,
   "metadata": {
    "scrolled": true
   },
   "outputs": [],
   "source": [
    "df_loyal = df_loyal.groupby(by=['cuisine_parent'], as_index=False).agg({'order_id':'count'})\n",
    "df_loyal = df_loyal.sort_values(by='order_id', ascending = False)"
   ]
  },
  {
   "cell_type": "code",
   "execution_count": 1132,
   "metadata": {},
   "outputs": [
    {
     "data": {
      "image/png": "[encoded data removed]",
      "text/plain": [
       "<Figure size 720x504 with 1 Axes>"
      ]
     },
     "metadata": {
      "needs_background": "light"
     },
     "output_type": "display_data"
    }
   ],
   "source": [
    "ax = df_loyal.plot(kind='bar', figsize=(10,7), fontsize=13);\n",
    "ax.set_alpha(0.8)\n",
    "ax.set_title(\"Number of orders per cuisine for loyal customers\", fontsize=18)\n",
    "ax.set_ylabel(\"Number of Orders\", fontsize=18);\n",
    "ax.set_xticklabels(df_loyal['cuisine_parent'])\n",
    "ax.legend().set_visible(False)\n",
    "plt.xticks(rotation =45)\n",
    "\n",
    "# create a list to collect the plt.patches data\n",
    "totals = []\n",
    "\n",
    "# find the values and append to list\n",
    "for i in ax.patches:\n",
    "    totals.append(i.get_height())\n",
    "\n",
    "# set individual bar lables using above list\n",
    "total = sum(totals)\n",
    "\n",
    "# set individual bar lables using above list\n",
    "for i in ax.patches:\n",
    "    # get_x pulls left or right; get_height pushes up or down\n",
    "    ax.text(i.get_x()+0.01, i.get_height()+500, \\\n",
    "            str(round((i.get_height()/total)*100, 2))+'%', fontsize=15)"
   ]
  },
  {
   "cell_type": "markdown",
   "metadata": {},
   "source": [
    "# 7. Conclusion"
   ]
  },
  {
   "cell_type": "markdown",
   "metadata": {},
   "source": [
    "Now that the customer segments have been established, it is time to target or delve deeper into a segment that seems interesting. It has to be noted one more time that the segments that have been set up for the purpose of this assessment could be altered according to the company's needs and requirements.\n",
    "\n",
    "Some examples about the next steps after the customer segmentation could be:\n",
    "1. Reward the best customers . As they use the application a lot, they could get a credit bonus if they refer a friend for example.\n",
    "2.  Churning customers. Send them personalised emails to encourage them to shop\n",
    "3. Loyal customers. Examine segments to identify latest trends and create new Marketing campaigns (coffee cuisine example)"
   ]
  }
 ],
 "metadata": {
  "kernelspec": {
   "display_name": "Python 3",
   "language": "python",
   "name": "python3"
  },
  "language_info": {
   "codemirror_mode": {
    "name": "ipython",
    "version": 3
   },
   "file_extension": ".py",
   "mimetype": "text/x-python",
   "name": "python",
   "nbconvert_exporter": "python",
   "pygments_lexer": "ipython3",
   "version": "3.8.3"
  }
 },
 "nbformat": 4,
 "nbformat_minor": 4
}
